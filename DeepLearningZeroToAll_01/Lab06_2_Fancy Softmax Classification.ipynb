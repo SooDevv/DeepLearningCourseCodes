{
 "cells": [
  {
   "cell_type": "markdown",
   "metadata": {},
   "source": [
    "## Fancy Softmax Classification\n",
    "- Data load : read csv file using Pandas\n",
    "- One hot encoding "
   ]
  },
  {
   "cell_type": "code",
   "execution_count": 1,
   "metadata": {},
   "outputs": [],
   "source": [
    "import tensorflow as tf\n",
    "import pandas as pd"
   ]
  },
  {
   "cell_type": "code",
   "execution_count": 2,
   "metadata": {},
   "outputs": [],
   "source": [
    "df = pd.read_csv('zoo.txt', delimiter=',', header=None)"
   ]
  },
  {
   "cell_type": "code",
   "execution_count": 3,
   "metadata": {},
   "outputs": [
    {
     "data": {
      "text/html": [
       "<div>\n",
       "<style scoped>\n",
       "    .dataframe tbody tr th:only-of-type {\n",
       "        vertical-align: middle;\n",
       "    }\n",
       "\n",
       "    .dataframe tbody tr th {\n",
       "        vertical-align: top;\n",
       "    }\n",
       "\n",
       "    .dataframe thead th {\n",
       "        text-align: right;\n",
       "    }\n",
       "</style>\n",
       "<table border=\"1\" class=\"dataframe\">\n",
       "  <thead>\n",
       "    <tr style=\"text-align: right;\">\n",
       "      <th></th>\n",
       "      <th>0</th>\n",
       "      <th>1</th>\n",
       "      <th>2</th>\n",
       "      <th>3</th>\n",
       "      <th>4</th>\n",
       "      <th>5</th>\n",
       "      <th>6</th>\n",
       "      <th>7</th>\n",
       "      <th>8</th>\n",
       "      <th>9</th>\n",
       "      <th>10</th>\n",
       "      <th>11</th>\n",
       "      <th>12</th>\n",
       "      <th>13</th>\n",
       "      <th>14</th>\n",
       "      <th>15</th>\n",
       "      <th>16</th>\n",
       "    </tr>\n",
       "  </thead>\n",
       "  <tbody>\n",
       "    <tr>\n",
       "      <th>0</th>\n",
       "      <td>1</td>\n",
       "      <td>0</td>\n",
       "      <td>0</td>\n",
       "      <td>1</td>\n",
       "      <td>0</td>\n",
       "      <td>0</td>\n",
       "      <td>1</td>\n",
       "      <td>1</td>\n",
       "      <td>1</td>\n",
       "      <td>1</td>\n",
       "      <td>0</td>\n",
       "      <td>0</td>\n",
       "      <td>4</td>\n",
       "      <td>0</td>\n",
       "      <td>0</td>\n",
       "      <td>1</td>\n",
       "      <td>0</td>\n",
       "    </tr>\n",
       "    <tr>\n",
       "      <th>1</th>\n",
       "      <td>1</td>\n",
       "      <td>0</td>\n",
       "      <td>0</td>\n",
       "      <td>1</td>\n",
       "      <td>0</td>\n",
       "      <td>0</td>\n",
       "      <td>0</td>\n",
       "      <td>1</td>\n",
       "      <td>1</td>\n",
       "      <td>1</td>\n",
       "      <td>0</td>\n",
       "      <td>0</td>\n",
       "      <td>4</td>\n",
       "      <td>1</td>\n",
       "      <td>0</td>\n",
       "      <td>1</td>\n",
       "      <td>0</td>\n",
       "    </tr>\n",
       "    <tr>\n",
       "      <th>2</th>\n",
       "      <td>0</td>\n",
       "      <td>0</td>\n",
       "      <td>1</td>\n",
       "      <td>0</td>\n",
       "      <td>0</td>\n",
       "      <td>1</td>\n",
       "      <td>1</td>\n",
       "      <td>1</td>\n",
       "      <td>1</td>\n",
       "      <td>0</td>\n",
       "      <td>0</td>\n",
       "      <td>1</td>\n",
       "      <td>0</td>\n",
       "      <td>1</td>\n",
       "      <td>0</td>\n",
       "      <td>0</td>\n",
       "      <td>3</td>\n",
       "    </tr>\n",
       "    <tr>\n",
       "      <th>3</th>\n",
       "      <td>1</td>\n",
       "      <td>0</td>\n",
       "      <td>0</td>\n",
       "      <td>1</td>\n",
       "      <td>0</td>\n",
       "      <td>0</td>\n",
       "      <td>1</td>\n",
       "      <td>1</td>\n",
       "      <td>1</td>\n",
       "      <td>1</td>\n",
       "      <td>0</td>\n",
       "      <td>0</td>\n",
       "      <td>4</td>\n",
       "      <td>0</td>\n",
       "      <td>0</td>\n",
       "      <td>1</td>\n",
       "      <td>0</td>\n",
       "    </tr>\n",
       "    <tr>\n",
       "      <th>4</th>\n",
       "      <td>1</td>\n",
       "      <td>0</td>\n",
       "      <td>0</td>\n",
       "      <td>1</td>\n",
       "      <td>0</td>\n",
       "      <td>0</td>\n",
       "      <td>1</td>\n",
       "      <td>1</td>\n",
       "      <td>1</td>\n",
       "      <td>1</td>\n",
       "      <td>0</td>\n",
       "      <td>0</td>\n",
       "      <td>4</td>\n",
       "      <td>1</td>\n",
       "      <td>0</td>\n",
       "      <td>1</td>\n",
       "      <td>0</td>\n",
       "    </tr>\n",
       "  </tbody>\n",
       "</table>\n",
       "</div>"
      ],
      "text/plain": [
       "   0   1   2   3   4   5   6   7   8   9   10  11  12  13  14  15  16\n",
       "0   1   0   0   1   0   0   1   1   1   1   0   0   4   0   0   1   0\n",
       "1   1   0   0   1   0   0   0   1   1   1   0   0   4   1   0   1   0\n",
       "2   0   0   1   0   0   1   1   1   1   0   0   1   0   1   0   0   3\n",
       "3   1   0   0   1   0   0   1   1   1   1   0   0   4   0   0   1   0\n",
       "4   1   0   0   1   0   0   1   1   1   1   0   0   4   1   0   1   0"
      ]
     },
     "execution_count": 3,
     "metadata": {},
     "output_type": "execute_result"
    }
   ],
   "source": [
    "df.head()"
   ]
  },
  {
   "cell_type": "code",
   "execution_count": 4,
   "metadata": {},
   "outputs": [],
   "source": [
    "x_data = df.iloc[:, 0:-1]"
   ]
  },
  {
   "cell_type": "code",
   "execution_count": 5,
   "metadata": {},
   "outputs": [
    {
     "data": {
      "text/plain": [
       "(101, 16)"
      ]
     },
     "execution_count": 5,
     "metadata": {},
     "output_type": "execute_result"
    }
   ],
   "source": [
    "x_data.shape"
   ]
  },
  {
   "cell_type": "code",
   "execution_count": 6,
   "metadata": {},
   "outputs": [
    {
     "data": {
      "text/html": [
       "<div>\n",
       "<style scoped>\n",
       "    .dataframe tbody tr th:only-of-type {\n",
       "        vertical-align: middle;\n",
       "    }\n",
       "\n",
       "    .dataframe tbody tr th {\n",
       "        vertical-align: top;\n",
       "    }\n",
       "\n",
       "    .dataframe thead th {\n",
       "        text-align: right;\n",
       "    }\n",
       "</style>\n",
       "<table border=\"1\" class=\"dataframe\">\n",
       "  <thead>\n",
       "    <tr style=\"text-align: right;\">\n",
       "      <th></th>\n",
       "      <th>0</th>\n",
       "      <th>1</th>\n",
       "      <th>2</th>\n",
       "      <th>3</th>\n",
       "      <th>4</th>\n",
       "      <th>5</th>\n",
       "      <th>6</th>\n",
       "      <th>7</th>\n",
       "      <th>8</th>\n",
       "      <th>9</th>\n",
       "      <th>10</th>\n",
       "      <th>11</th>\n",
       "      <th>12</th>\n",
       "      <th>13</th>\n",
       "      <th>14</th>\n",
       "      <th>15</th>\n",
       "    </tr>\n",
       "  </thead>\n",
       "  <tbody>\n",
       "    <tr>\n",
       "      <th>0</th>\n",
       "      <td>1</td>\n",
       "      <td>0</td>\n",
       "      <td>0</td>\n",
       "      <td>1</td>\n",
       "      <td>0</td>\n",
       "      <td>0</td>\n",
       "      <td>1</td>\n",
       "      <td>1</td>\n",
       "      <td>1</td>\n",
       "      <td>1</td>\n",
       "      <td>0</td>\n",
       "      <td>0</td>\n",
       "      <td>4</td>\n",
       "      <td>0</td>\n",
       "      <td>0</td>\n",
       "      <td>1</td>\n",
       "    </tr>\n",
       "    <tr>\n",
       "      <th>1</th>\n",
       "      <td>1</td>\n",
       "      <td>0</td>\n",
       "      <td>0</td>\n",
       "      <td>1</td>\n",
       "      <td>0</td>\n",
       "      <td>0</td>\n",
       "      <td>0</td>\n",
       "      <td>1</td>\n",
       "      <td>1</td>\n",
       "      <td>1</td>\n",
       "      <td>0</td>\n",
       "      <td>0</td>\n",
       "      <td>4</td>\n",
       "      <td>1</td>\n",
       "      <td>0</td>\n",
       "      <td>1</td>\n",
       "    </tr>\n",
       "    <tr>\n",
       "      <th>2</th>\n",
       "      <td>0</td>\n",
       "      <td>0</td>\n",
       "      <td>1</td>\n",
       "      <td>0</td>\n",
       "      <td>0</td>\n",
       "      <td>1</td>\n",
       "      <td>1</td>\n",
       "      <td>1</td>\n",
       "      <td>1</td>\n",
       "      <td>0</td>\n",
       "      <td>0</td>\n",
       "      <td>1</td>\n",
       "      <td>0</td>\n",
       "      <td>1</td>\n",
       "      <td>0</td>\n",
       "      <td>0</td>\n",
       "    </tr>\n",
       "    <tr>\n",
       "      <th>3</th>\n",
       "      <td>1</td>\n",
       "      <td>0</td>\n",
       "      <td>0</td>\n",
       "      <td>1</td>\n",
       "      <td>0</td>\n",
       "      <td>0</td>\n",
       "      <td>1</td>\n",
       "      <td>1</td>\n",
       "      <td>1</td>\n",
       "      <td>1</td>\n",
       "      <td>0</td>\n",
       "      <td>0</td>\n",
       "      <td>4</td>\n",
       "      <td>0</td>\n",
       "      <td>0</td>\n",
       "      <td>1</td>\n",
       "    </tr>\n",
       "    <tr>\n",
       "      <th>4</th>\n",
       "      <td>1</td>\n",
       "      <td>0</td>\n",
       "      <td>0</td>\n",
       "      <td>1</td>\n",
       "      <td>0</td>\n",
       "      <td>0</td>\n",
       "      <td>1</td>\n",
       "      <td>1</td>\n",
       "      <td>1</td>\n",
       "      <td>1</td>\n",
       "      <td>0</td>\n",
       "      <td>0</td>\n",
       "      <td>4</td>\n",
       "      <td>1</td>\n",
       "      <td>0</td>\n",
       "      <td>1</td>\n",
       "    </tr>\n",
       "  </tbody>\n",
       "</table>\n",
       "</div>"
      ],
      "text/plain": [
       "   0   1   2   3   4   5   6   7   8   9   10  11  12  13  14  15\n",
       "0   1   0   0   1   0   0   1   1   1   1   0   0   4   0   0   1\n",
       "1   1   0   0   1   0   0   0   1   1   1   0   0   4   1   0   1\n",
       "2   0   0   1   0   0   1   1   1   1   0   0   1   0   1   0   0\n",
       "3   1   0   0   1   0   0   1   1   1   1   0   0   4   0   0   1\n",
       "4   1   0   0   1   0   0   1   1   1   1   0   0   4   1   0   1"
      ]
     },
     "execution_count": 6,
     "metadata": {},
     "output_type": "execute_result"
    }
   ],
   "source": [
    "x_data.head()"
   ]
  },
  {
   "cell_type": "code",
   "execution_count": 7,
   "metadata": {},
   "outputs": [],
   "source": [
    "y_data = df.iloc[:,-1]"
   ]
  },
  {
   "cell_type": "code",
   "execution_count": 8,
   "metadata": {},
   "outputs": [
    {
     "data": {
      "text/plain": [
       "(101,)"
      ]
     },
     "execution_count": 8,
     "metadata": {},
     "output_type": "execute_result"
    }
   ],
   "source": [
    "y_data.shape"
   ]
  },
  {
   "cell_type": "code",
   "execution_count": 9,
   "metadata": {},
   "outputs": [],
   "source": [
    "y_data_df = y_data.to_frame()"
   ]
  },
  {
   "cell_type": "code",
   "execution_count": 10,
   "metadata": {},
   "outputs": [
    {
     "data": {
      "text/plain": [
       "(101, 1)"
      ]
     },
     "execution_count": 10,
     "metadata": {},
     "output_type": "execute_result"
    }
   ],
   "source": [
    "y_data_df.shape"
   ]
  },
  {
   "cell_type": "code",
   "execution_count": 11,
   "metadata": {},
   "outputs": [
    {
     "data": {
      "text/plain": [
       "0    0\n",
       "1    0\n",
       "2    3\n",
       "3    0\n",
       "4    0\n",
       "Name: 16, dtype: int64"
      ]
     },
     "execution_count": 11,
     "metadata": {},
     "output_type": "execute_result"
    }
   ],
   "source": [
    "y_data.head()"
   ]
  },
  {
   "cell_type": "code",
   "execution_count": 12,
   "metadata": {},
   "outputs": [],
   "source": [
    "# y_data.astype('float32').head()"
   ]
  },
  {
   "cell_type": "code",
   "execution_count": 13,
   "metadata": {},
   "outputs": [],
   "source": [
    "nb_classes = 7"
   ]
  },
  {
   "cell_type": "markdown",
   "metadata": {},
   "source": [
    "### graph "
   ]
  },
  {
   "cell_type": "code",
   "execution_count": 14,
   "metadata": {},
   "outputs": [],
   "source": [
    "X = tf.placeholder(tf.float32, [None, 16])\n",
    "Y = tf.placeholder(tf.int32, [None, 1])"
   ]
  },
  {
   "cell_type": "markdown",
   "metadata": {},
   "source": [
    "### One-Hot Encoding"
   ]
  },
  {
   "cell_type": "code",
   "execution_count": 15,
   "metadata": {},
   "outputs": [
    {
     "data": {
      "text/plain": [
       "TensorShape([Dimension(None), Dimension(1)])"
      ]
     },
     "execution_count": 15,
     "metadata": {},
     "output_type": "execute_result"
    }
   ],
   "source": [
    "Y.shape"
   ]
  },
  {
   "cell_type": "code",
   "execution_count": 16,
   "metadata": {},
   "outputs": [],
   "source": [
    "# 그냥 one_hot 하면 차원하나 늘어남 \n",
    "Y_one_hot = tf.one_hot(Y, nb_classes)"
   ]
  },
  {
   "cell_type": "code",
   "execution_count": 17,
   "metadata": {},
   "outputs": [
    {
     "data": {
      "text/plain": [
       "TensorShape([Dimension(None), Dimension(1), Dimension(7)])"
      ]
     },
     "execution_count": 17,
     "metadata": {},
     "output_type": "execute_result"
    }
   ],
   "source": [
    "Y_one_hot.shape"
   ]
  },
  {
   "cell_type": "code",
   "execution_count": 18,
   "metadata": {},
   "outputs": [],
   "source": [
    "# 2차원으로 줄이기 위한 reshape 과정 필요\n",
    "Y_one_hot = tf.reshape(Y_one_hot, [-1, nb_classes])"
   ]
  },
  {
   "cell_type": "code",
   "execution_count": 19,
   "metadata": {},
   "outputs": [
    {
     "data": {
      "text/plain": [
       "TensorShape([Dimension(None), Dimension(7)])"
      ]
     },
     "execution_count": 19,
     "metadata": {},
     "output_type": "execute_result"
    }
   ],
   "source": [
    "Y_one_hot.shape"
   ]
  },
  {
   "cell_type": "markdown",
   "metadata": {},
   "source": [
    "### Other Graph\n",
    "- Weight , Bias, logits, hypothesis, cost_i, cost, optimizer"
   ]
  },
  {
   "cell_type": "code",
   "execution_count": 20,
   "metadata": {},
   "outputs": [
    {
     "data": {
      "text/plain": [
       "TensorShape([Dimension(None), Dimension(16)])"
      ]
     },
     "execution_count": 20,
     "metadata": {},
     "output_type": "execute_result"
    }
   ],
   "source": [
    "X.shape"
   ]
  },
  {
   "cell_type": "code",
   "execution_count": 21,
   "metadata": {},
   "outputs": [],
   "source": [
    "W = tf.Variable(tf.random_normal([16, nb_classes]), name='weight')\n",
    "b = tf.Variable(tf.random_normal([nb_classes]), name='bias')"
   ]
  },
  {
   "cell_type": "code",
   "execution_count": 22,
   "metadata": {},
   "outputs": [],
   "source": [
    "logits = tf.matmul(X,W) + b\n",
    "h = tf.nn.softmax(logits)"
   ]
  },
  {
   "cell_type": "code",
   "execution_count": 23,
   "metadata": {},
   "outputs": [],
   "source": [
    "# tf.nn.softmax_cross_entropy_with_logits : deprecated \n",
    "cost_i = tf.nn.softmax_cross_entropy_with_logits_v2(logits=logits, labels=Y_one_hot)\n",
    "cost = tf.reduce_mean(cost_i)\n",
    "optimizer = tf.train.GradientDescentOptimizer(learning_rate=0.1).minimize(cost)"
   ]
  },
  {
   "cell_type": "markdown",
   "metadata": {},
   "source": [
    "### 예측 및 평가"
   ]
  },
  {
   "cell_type": "code",
   "execution_count": 24,
   "metadata": {},
   "outputs": [],
   "source": [
    "prediction = tf.argmax(h, axis = 1)\n",
    "correct_prediction = tf.equal(prediction, tf.argmax(Y_one_hot, axis = 1))\n",
    "acc = tf.reduce_mean(tf.cast(correct_prediction, tf.float32))"
   ]
  },
  {
   "cell_type": "markdown",
   "metadata": {},
   "source": [
    "### Launch graph"
   ]
  },
  {
   "cell_type": "code",
   "execution_count": 40,
   "metadata": {},
   "outputs": [
    {
     "name": "stdout",
     "output_type": "stream",
     "text": [
      "step: 0, \n",
      " loss : 5.272947788238525, \n",
      " acc : 0.30693069100379944\n",
      "step: 200, \n",
      " loss : 0.41260263323783875, \n",
      " acc : 0.8712871074676514\n",
      "step: 400, \n",
      " loss : 0.24978190660476685, \n",
      " acc : 0.9405940771102905\n",
      "step: 600, \n",
      " loss : 0.18034476041793823, \n",
      " acc : 0.9504950642585754\n",
      "step: 800, \n",
      " loss : 0.1397009938955307, \n",
      " acc : 0.9603960514068604\n",
      "step: 1000, \n",
      " loss : 0.11296695470809937, \n",
      " acc : 0.9801980257034302\n",
      "step: 1200, \n",
      " loss : 0.0943373441696167, \n",
      " acc : 0.9900990128517151\n",
      "step: 1400, \n",
      " loss : 0.08080713450908661, \n",
      " acc : 1.0\n",
      "step: 1600, \n",
      " loss : 0.07062531262636185, \n",
      " acc : 1.0\n",
      "step: 1800, \n",
      " loss : 0.06272418051958084, \n",
      " acc : 1.0\n",
      "step: 2000, \n",
      " loss : 0.05643046647310257, \n",
      " acc : 1.0\n",
      "[True] Prediction: 0 - True Y : 0\n",
      "[True] Prediction: 0 - True Y : 0\n",
      "[True] Prediction: 3 - True Y : 3\n",
      "[True] Prediction: 0 - True Y : 0\n",
      "[True] Prediction: 0 - True Y : 0\n",
      "[True] Prediction: 0 - True Y : 0\n",
      "[True] Prediction: 0 - True Y : 0\n",
      "[True] Prediction: 3 - True Y : 3\n",
      "[True] Prediction: 3 - True Y : 3\n",
      "[True] Prediction: 0 - True Y : 0\n",
      "[True] Prediction: 0 - True Y : 0\n",
      "[True] Prediction: 1 - True Y : 1\n",
      "[True] Prediction: 3 - True Y : 3\n",
      "[True] Prediction: 6 - True Y : 6\n",
      "[True] Prediction: 6 - True Y : 6\n",
      "[True] Prediction: 6 - True Y : 6\n",
      "[True] Prediction: 1 - True Y : 1\n",
      "[True] Prediction: 0 - True Y : 0\n",
      "[True] Prediction: 3 - True Y : 3\n",
      "[True] Prediction: 0 - True Y : 0\n",
      "[True] Prediction: 1 - True Y : 1\n",
      "[True] Prediction: 1 - True Y : 1\n",
      "[True] Prediction: 0 - True Y : 0\n",
      "[True] Prediction: 1 - True Y : 1\n",
      "[True] Prediction: 5 - True Y : 5\n",
      "[True] Prediction: 4 - True Y : 4\n",
      "[True] Prediction: 4 - True Y : 4\n",
      "[True] Prediction: 0 - True Y : 0\n",
      "[True] Prediction: 0 - True Y : 0\n",
      "[True] Prediction: 0 - True Y : 0\n",
      "[True] Prediction: 5 - True Y : 5\n",
      "[True] Prediction: 0 - True Y : 0\n",
      "[True] Prediction: 0 - True Y : 0\n",
      "[True] Prediction: 1 - True Y : 1\n",
      "[True] Prediction: 3 - True Y : 3\n",
      "[True] Prediction: 0 - True Y : 0\n",
      "[True] Prediction: 0 - True Y : 0\n",
      "[True] Prediction: 1 - True Y : 1\n",
      "[True] Prediction: 3 - True Y : 3\n",
      "[True] Prediction: 5 - True Y : 5\n",
      "[True] Prediction: 5 - True Y : 5\n",
      "[True] Prediction: 1 - True Y : 1\n",
      "[True] Prediction: 5 - True Y : 5\n",
      "[True] Prediction: 1 - True Y : 1\n",
      "[True] Prediction: 0 - True Y : 0\n",
      "[True] Prediction: 0 - True Y : 0\n",
      "[True] Prediction: 6 - True Y : 6\n",
      "[True] Prediction: 0 - True Y : 0\n",
      "[True] Prediction: 0 - True Y : 0\n",
      "[True] Prediction: 0 - True Y : 0\n",
      "[True] Prediction: 0 - True Y : 0\n",
      "[True] Prediction: 5 - True Y : 5\n",
      "[True] Prediction: 4 - True Y : 4\n",
      "[True] Prediction: 6 - True Y : 6\n",
      "[True] Prediction: 0 - True Y : 0\n",
      "[True] Prediction: 0 - True Y : 0\n",
      "[True] Prediction: 1 - True Y : 1\n",
      "[True] Prediction: 1 - True Y : 1\n",
      "[True] Prediction: 1 - True Y : 1\n",
      "[True] Prediction: 1 - True Y : 1\n",
      "[True] Prediction: 3 - True Y : 3\n",
      "[True] Prediction: 3 - True Y : 3\n",
      "[True] Prediction: 2 - True Y : 2\n",
      "[True] Prediction: 0 - True Y : 0\n",
      "[True] Prediction: 0 - True Y : 0\n",
      "[True] Prediction: 0 - True Y : 0\n",
      "[True] Prediction: 0 - True Y : 0\n",
      "[True] Prediction: 0 - True Y : 0\n",
      "[True] Prediction: 0 - True Y : 0\n",
      "[True] Prediction: 0 - True Y : 0\n",
      "[True] Prediction: 0 - True Y : 0\n",
      "[True] Prediction: 1 - True Y : 1\n",
      "[True] Prediction: 6 - True Y : 6\n",
      "[True] Prediction: 3 - True Y : 3\n",
      "[True] Prediction: 0 - True Y : 0\n",
      "[True] Prediction: 0 - True Y : 0\n",
      "[True] Prediction: 2 - True Y : 2\n",
      "[True] Prediction: 6 - True Y : 6\n",
      "[True] Prediction: 1 - True Y : 1\n",
      "[True] Prediction: 1 - True Y : 1\n",
      "[True] Prediction: 2 - True Y : 2\n",
      "[True] Prediction: 6 - True Y : 6\n",
      "[True] Prediction: 3 - True Y : 3\n",
      "[True] Prediction: 1 - True Y : 1\n",
      "[True] Prediction: 0 - True Y : 0\n",
      "[True] Prediction: 6 - True Y : 6\n",
      "[True] Prediction: 3 - True Y : 3\n",
      "[True] Prediction: 1 - True Y : 1\n",
      "[True] Prediction: 5 - True Y : 5\n",
      "[True] Prediction: 4 - True Y : 4\n",
      "[True] Prediction: 2 - True Y : 2\n",
      "[True] Prediction: 2 - True Y : 2\n",
      "[True] Prediction: 3 - True Y : 3\n",
      "[True] Prediction: 0 - True Y : 0\n",
      "[True] Prediction: 0 - True Y : 0\n",
      "[True] Prediction: 1 - True Y : 1\n",
      "[True] Prediction: 0 - True Y : 0\n",
      "[True] Prediction: 5 - True Y : 5\n",
      "[True] Prediction: 0 - True Y : 0\n",
      "[True] Prediction: 6 - True Y : 6\n",
      "[True] Prediction: 1 - True Y : 1\n"
     ]
    }
   ],
   "source": [
    "with tf.Session() as sess:\n",
    "    sess.run(tf.global_variables_initializer())\n",
    "    \n",
    "    for step in range(2001):\n",
    "        sess.run(optimizer, feed_dict={X: x_data, Y: y_data_df})\n",
    "        if step % 200 == 0:\n",
    "            loss_val, acc_val = sess.run([cost, acc], feed_dict={X: x_data, Y:y_data_df})\n",
    "            \n",
    "            print('step: {0}, \\n loss : {1}, \\n acc : {2}'.format(step, loss_val, acc_val))\n",
    "            \n",
    "    pred = sess.run(prediction, feed_dict={X:x_data})\n",
    "    # y_data.flatten : 2차원 배열 --> 1차원 배열 \n",
    "    # 하지만 데이티를 pandas로 불러와서 series로 불러왔기 때문에 flatten 할 필요 X \n",
    "    for p,y in zip(pred, y_data):\n",
    "        print(\"[{0}] Prediction: {1} - True Y : {2}\".format(p == int(y), p, int(y)))"
   ]
  },
  {
   "cell_type": "markdown",
   "metadata": {},
   "source": [
    "### Issue \n",
    "1. Can not convert a float32 into a Tensor or Operation.\n",
    "    - sess.run 할 때 변수명과 똑같이 지정해서 나타나는 에러\n",
    "    - loss_val, acc= sess.run([cost, acc]\n",
    "2. can't series to flatten\n",
    "    - y_data.flatten : 2차원 배열 --> 1차원 배열 \n",
    "    - 하지만 데이티를 pandas로 불러와서 series로 불러왔기 때문에 flatten 할 필요 X\n",
    "3. tuple out of index\n",
    "    - print({1} {2} {3}) --> print({0} {1} {2})"
   ]
  }
 ],
 "metadata": {
  "kernelspec": {
   "display_name": "Python 3",
   "language": "python",
   "name": "python3"
  },
  "language_info": {
   "codemirror_mode": {
    "name": "ipython",
    "version": 3
   },
   "file_extension": ".py",
   "mimetype": "text/x-python",
   "name": "python",
   "nbconvert_exporter": "python",
   "pygments_lexer": "ipython3",
   "version": "3.6.6"
  }
 },
 "nbformat": 4,
 "nbformat_minor": 2
}
