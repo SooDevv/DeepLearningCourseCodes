{
 "cells": [
  {
   "cell_type": "markdown",
   "metadata": {},
   "source": [
    "## tf.data \n",
    "- Placeholder\n",
    "    + pro: put the data processing outside TensoFlow, making it easy to do in Python\n",
    "    + cons: users often end up processing their data in a single thread and creating data bottleneck that slows execution down.\n",
    "- tf.data \n",
    "    + Instead of ding inference with placeholders and feeding in data later, \n",
    "        do inference directly with data\n",
    "    + tf.data.Dataset\n",
    "    + tf.data.Iterator"
   ]
  },
  {
   "cell_type": "code",
   "execution_count": null,
   "metadata": {},
   "outputs": [],
   "source": []
  }
 ],
 "metadata": {
  "kernelspec": {
   "display_name": "Python 3",
   "language": "python",
   "name": "python3"
  },
  "language_info": {
   "codemirror_mode": {
    "name": "ipython",
    "version": 3
   },
   "file_extension": ".py",
   "mimetype": "text/x-python",
   "name": "python",
   "nbconvert_exporter": "python",
   "pygments_lexer": "ipython3",
   "version": "3.6.7"
  }
 },
 "nbformat": 4,
 "nbformat_minor": 2
}
