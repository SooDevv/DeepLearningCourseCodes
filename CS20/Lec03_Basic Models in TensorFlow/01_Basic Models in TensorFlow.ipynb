{
 "cells": [
  {
   "cell_type": "markdown",
   "metadata": {},
   "source": [
    "# Basic Models in TensorFlow "
   ]
  },
  {
   "cell_type": "markdown",
   "metadata": {},
   "source": [
    "## Review \n",
    "- TensorFlow separates definition of computations from their execution\n",
    "    + Phase1: Assemble a graph\n",
    "    + Phase2: Use a session to execute operations in the graph\n",
    "- tf.constant and tf.Variable\n",
    "    + Constant values are stored in the graph definition \n",
    "    + Sessions allocate memory to store variable values \n",
    "- tf.placeholder and feed_dict\n",
    "    + Feed values into placeholders with a dictionary(feed_dict)\n",
    "    + Easy to use but poor performance \n",
    "- Avoid lazy loading \n",
    "    1. Separate the assembling of graph and execution ops\n",
    "    2. Use Python attribute to ensure a function is only loaded the first time it's called"
   ]
  },
  {
   "cell_type": "markdown",
   "metadata": {},
   "source": [
    "## Linear regression in TensorFlow\n",
    "- Model the linear relationship between\n",
    "    + dependent variable Y, explanatory variables X \n",
    "    + Find a linear relationship between X and Y to predict Y from X \n",
    "- Inference: Y_predicted = w * X +b"
   ]
  },
  {
   "cell_type": "markdown",
   "metadata": {},
   "source": [
    "### Linear Regression with MSE loss "
   ]
  },
  {
   "cell_type": "markdown",
   "metadata": {},
   "source": [
    "#### Setup "
   ]
  },
  {
   "cell_type": "code",
   "execution_count": 24,
   "metadata": {},
   "outputs": [
    {
     "name": "stdout",
     "output_type": "stream",
     "text": [
      "1.11.0\n"
     ]
    }
   ],
   "source": [
    "import os, sys\n",
    "import numpy as np\n",
    "import pandas as pd\n",
    "import matplotlib.pyplot as plt\n",
    "import tensorflow as tf\n",
    "%matplotlib inline\n",
    "\n",
    "print(tf.__version__)"
   ]
  },
  {
   "cell_type": "markdown",
   "metadata": {},
   "source": [
    "#### Load and Pre-process data "
   ]
  },
  {
   "cell_type": "code",
   "execution_count": 27,
   "metadata": {},
   "outputs": [
    {
     "data": {
      "text/html": [
       "<div>\n",
       "<style scoped>\n",
       "    .dataframe tbody tr th:only-of-type {\n",
       "        vertical-align: middle;\n",
       "    }\n",
       "\n",
       "    .dataframe tbody tr th {\n",
       "        vertical-align: top;\n",
       "    }\n",
       "\n",
       "    .dataframe thead th {\n",
       "        text-align: right;\n",
       "    }\n",
       "</style>\n",
       "<table border=\"1\" class=\"dataframe\">\n",
       "  <thead>\n",
       "    <tr style=\"text-align: right;\">\n",
       "      <th></th>\n",
       "      <th>Country</th>\n",
       "      <th>Birth rate</th>\n",
       "      <th>Life expectancy</th>\n",
       "    </tr>\n",
       "  </thead>\n",
       "  <tbody>\n",
       "    <tr>\n",
       "      <th>0</th>\n",
       "      <td>Vietnam</td>\n",
       "      <td>1.822</td>\n",
       "      <td>74.828244</td>\n",
       "    </tr>\n",
       "    <tr>\n",
       "      <th>1</th>\n",
       "      <td>Vanuatu</td>\n",
       "      <td>3.869</td>\n",
       "      <td>70.819488</td>\n",
       "    </tr>\n",
       "    <tr>\n",
       "      <th>2</th>\n",
       "      <td>Tonga</td>\n",
       "      <td>3.911</td>\n",
       "      <td>72.150659</td>\n",
       "    </tr>\n",
       "    <tr>\n",
       "      <th>3</th>\n",
       "      <td>Timor-Leste</td>\n",
       "      <td>5.578</td>\n",
       "      <td>61.999854</td>\n",
       "    </tr>\n",
       "    <tr>\n",
       "      <th>4</th>\n",
       "      <td>Thailand</td>\n",
       "      <td>1.579</td>\n",
       "      <td>73.927659</td>\n",
       "    </tr>\n",
       "  </tbody>\n",
       "</table>\n",
       "</div>"
      ],
      "text/plain": [
       "       Country  Birth rate  Life expectancy\n",
       "0      Vietnam       1.822        74.828244\n",
       "1      Vanuatu       3.869        70.819488\n",
       "2        Tonga       3.911        72.150659\n",
       "3  Timor-Leste       5.578        61.999854\n",
       "4     Thailand       1.579        73.927659"
      ]
     },
     "execution_count": 27,
     "metadata": {},
     "output_type": "execute_result"
    }
   ],
   "source": [
    "# Read in data\n",
    "data = pd.read_table('../data/birth_life_2010.txt')\n",
    "data.head()"
   ]
  },
  {
   "cell_type": "code",
   "execution_count": 30,
   "metadata": {},
   "outputs": [
    {
     "name": "stdout",
     "output_type": "stream",
     "text": [
      "(190,) (190,)\n"
     ]
    }
   ],
   "source": [
    "x = data.loc[:, 'Birth rate'].values\n",
    "y = data.loc[:, 'Life expectancy'].values\n",
    "print(x.shape, y.shape)"
   ]
  },
  {
   "cell_type": "code",
   "execution_count": 32,
   "metadata": {},
   "outputs": [
    {
     "name": "stdout",
     "output_type": "stream",
     "text": [
      "tr_indices: [ 96 160  24 142 148 151 171 124 147 150  70 157 134  49  86  35  98 119\n",
      "  29  31  16  23 180 128  40  66   9  52  47 115 135 177 162  85  53  44\n",
      "  15 146 166 100  62  55 132  32  64  18  94 110 125 102   1  36  56  22\n",
      " 175 144 101  51  83 131  80 168 123 176  34  88  79   0 113  25  57  17\n",
      " 169 152 187  97 163 114  50  10  95  30  46 153 104  76  63  58 112 103\n",
      " 158  59   3  67  21 139 188   4  39  77  33 182 155  14 164   7 141  45\n",
      " 109 172  54 149  60  84 122 120 127  91  27  48  61  72  89  99  92 143\n",
      "  42 140 137 179   8 159 167]\n"
     ]
    }
   ],
   "source": [
    "# Split train and validation \n",
    "# 190개에서 0.7= 133개 선택(idex)\n",
    "tr_indices = np.random.choice(range(x.shape[0]), size = int(x.shape[0] * .7), replace=False)\n",
    "print('tr_indices: {}'.format(tr_indices))"
   ]
  },
  {
   "cell_type": "code",
   "execution_count": 47,
   "metadata": {},
   "outputs": [
    {
     "name": "stdout",
     "output_type": "stream",
     "text": [
      "(133,) (133,)\n",
      "(57,) (57,)\n"
     ]
    }
   ],
   "source": [
    "x_tr = x[tr_indices]\n",
    "y_tr = y[tr_indices]\n",
    "\n",
    "x_val = np.delete(x, tr_indices, axis=0)\n",
    "y_val = np.delete(y, tr_indices, axis=0)\n",
    "\n",
    "print(x_tr.shape, y_tr.shape)\n",
    "print(x_val.shape, y_val.shape)"
   ]
  },
  {
   "cell_type": "markdown",
   "metadata": {},
   "source": [
    "#### Define the graph of Simple Linear Regression "
   ]
  },
  {
   "cell_type": "code",
   "execution_count": 36,
   "metadata": {},
   "outputs": [],
   "source": [
    "# Create placeholders for inputs(X, birth rate) and labels(Y, life expectancy)\n",
    "X = tf.placeholder(dtype=tf.float32, shape=[None], name='input')\n",
    "Y = tf.placeholder(dtype=tf.float32, shape=[None], name='label')\n",
    "\n",
    "# Createweight and bias\n",
    "w = tf.get_variable(name='weight', initializer=tf.constant(.0))\n",
    "b = tf.get_variable(name='bias', initializer=tf.constant(.0))\n",
    "\n",
    "# Inference: Construct model to predict Y\n",
    "y_predicted = X * w + b\n",
    "\n",
    "# Specify loss function\n",
    "# Use the square error as a loss function\n",
    "mse_loss = tf.reduce_mean(tf.square(Y - y_predicted))\n",
    "mse_loss_summ = tf.summary.scalar(name='mse_loss', tensor=mse_loss)\n",
    "\n",
    "# Create optimizer\n",
    "# Using gradient descent with learning rate of 0.01 to minimize loss \n",
    "opt = tf.train.GradientDescentOptimizer(learning_rate=.01)\n",
    "training_op = opt.minimize(mse_loss)"
   ]
  },
  {
   "cell_type": "markdown",
   "metadata": {},
   "source": [
    "#### Training \n",
    "1. Initialize variables \n",
    "2. Run optimizer"
   ]
  },
  {
   "cell_type": "code",
   "execution_count": 37,
   "metadata": {},
   "outputs": [
    {
     "name": "stdout",
     "output_type": "stream",
     "text": [
      "23\n"
     ]
    }
   ],
   "source": [
    "epochs = 100\n",
    "batch_size = 8\n",
    "total_step = int(x.shape[0] / batch_size)\n",
    "print(total_step)"
   ]
  },
  {
   "cell_type": "code",
   "execution_count": 38,
   "metadata": {},
   "outputs": [],
   "source": [
    "train_writer = tf.summary.FileWriter(logdir='../graphs/lec03/linreg_mse_tf_placeholder/train',\n",
    "                                    graph=tf.get_default_graph())\n",
    "val_writer = tf.summary.FileWriter(logdir='../graphs/lec03/linreg_mse_tf_placeholder/val',\n",
    "                                  graph=tf.get_default_graph())"
   ]
  },
  {
   "cell_type": "code",
   "execution_count": 48,
   "metadata": {},
   "outputs": [
    {
     "name": "stdout",
     "output_type": "stream",
     "text": [
      "epoch :   0, tr_loss: 1805.22, val_loss: 1594.06\n",
      "epoch :  10, tr_loss: 246.55, val_loss: 248.90\n",
      "epoch :  20, tr_loss: 78.49, val_loss: 68.58\n",
      "epoch :  30, tr_loss: 42.35, val_loss: 37.90\n",
      "epoch :  40, tr_loss: 38.79, val_loss: 26.82\n",
      "epoch :  50, tr_loss: 31.65, val_loss: 30.76\n",
      "epoch :  60, tr_loss: 26.69, val_loss: 20.08\n",
      "epoch :  70, tr_loss: 32.16, val_loss: 17.91\n",
      "epoch :  80, tr_loss: 31.50, val_loss: 25.25\n",
      "epoch :  90, tr_loss: 32.19, val_loss: 25.47\n"
     ]
    }
   ],
   "source": [
    "sess = tf.Session()\n",
    "sess.run(tf.global_variables_initializer())\n",
    "\n",
    "tr_loss_hist = []\n",
    "val_loss_hist = []\n",
    "\n",
    "for epoch in range(epochs):#epoch = 100\n",
    "    avg_tr_loss = 0\n",
    "    avg_val_loss = 0\n",
    "    \n",
    "    for step in range(total_step):#total_step = 23 \n",
    "        # batch_indices = 133개 중에 8개씩 \n",
    "        batch_indices = np.random.choice(range(x_tr.shape[0]),\n",
    "                                        size=batch_size, replace=False)\n",
    "        val_indices = np.random.choice(range(x_val.shape[0]),\n",
    "                                      size=batch_size, replace=False)\n",
    "        batch_xs = x_tr[batch_indices]\n",
    "        batch_ys = y_tr[batch_indices]\n",
    "        val_xs = x_val[val_indices]\n",
    "        val_ys = y_val[val_indices]\n",
    "        \n",
    "        _, tr_loss = sess.run(fetches=[training_op, mse_loss],\n",
    "                             feed_dict={X: batch_xs, Y: batch_ys})\n",
    "        tr_loss_summ = sess.run(mse_loss_summ, feed_dict={X: batch_xs, Y: batch_ys})\n",
    "        \n",
    "        val_loss, val_loss_summ = sess.run(fetches=[mse_loss, mse_loss_summ],\n",
    "                                         feed_dict={X: val_xs, Y: val_ys})\n",
    "        avg_tr_loss += tr_loss / total_step\n",
    "        avg_val_loss += val_loss / total_step\n",
    "        \n",
    "    train_writer.add_summary(tr_loss_summ, global_step=epoch)\n",
    "    val_writer.add_summary(val_loss_summ, global_step=epoch)\n",
    "    tr_loss_hist.append(avg_tr_loss)\n",
    "    val_loss_hist.append(avg_val_loss)\n",
    "    \n",
    "    if epoch % 10 == 0:\n",
    "        print('epoch : {:3}, tr_loss: {:.2f}, val_loss: {:.2f}'.format(epoch, avg_tr_loss, avg_val_loss))\n",
    "\n",
    "train_writer.close()\n",
    "val_writer.close()"
   ]
  },
  {
   "cell_type": "markdown",
   "metadata": {},
   "source": [
    "#### Visualization"
   ]
  },
  {
   "cell_type": "code",
   "execution_count": 50,
   "metadata": {},
   "outputs": [
    {
     "data": {
      "text/plain": [
       "<matplotlib.legend.Legend at 0x2927097a470>"
      ]
     },
     "execution_count": 50,
     "metadata": {},
     "output_type": "execute_result"
    },
    {
     "data": {
      "image/png": "[encoded data removed]",
      "text/plain": [
       "<Figure size 432x288 with 1 Axes>"
      ]
     },
     "metadata": {},
     "output_type": "display_data"
    }
   ],
   "source": [
    "plt.plot(tr_loss_hist, label='train')\n",
    "plt.plot(val_loss_hist, label='validation')\n",
    "plt.legend()"
   ]
  },
  {
   "cell_type": "code",
   "execution_count": 53,
   "metadata": {},
   "outputs": [
    {
     "data": {
      "text/plain": [
       "<matplotlib.legend.Legend at 0x29270ae3b38>"
      ]
     },
     "execution_count": 53,
     "metadata": {},
     "output_type": "execute_result"
    },
    {
     "data": {
      "image/png": "[encoded data removed]",
      "text/plain": [
       "<Figure size 432x288 with 1 Axes>"
      ]
     },
     "metadata": {},
     "output_type": "display_data"
    }
   ],
   "source": [
    "w_out, b_out = sess.run([w, b])\n",
    "plt.plot(data.iloc[:,1], data.iloc[:,2], 'bo', label='Real data')\n",
    "plt.plot(data.iloc[:,1], data.iloc[:,1] * w_out + b_out, 'r', label='Predicted data')\n",
    "plt.legend()"
   ]
  }
 ],
 "metadata": {
  "kernelspec": {
   "display_name": "Python 3",
   "language": "python",
   "name": "python3"
  },
  "language_info": {
   "codemirror_mode": {
    "name": "ipython",
    "version": 3
   },
   "file_extension": ".py",
   "mimetype": "text/x-python",
   "name": "python",
   "nbconvert_exporter": "python",
   "pygments_lexer": "ipython3",
   "version": "3.6.6"
  }
 },
 "nbformat": 4,
 "nbformat_minor": 2
}
