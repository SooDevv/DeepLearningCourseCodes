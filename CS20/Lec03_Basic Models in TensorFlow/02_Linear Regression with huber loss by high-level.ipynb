{
 "cells": [
  {
   "cell_type": "markdown",
   "metadata": {},
   "source": [
    "# Basic Models in TensorFlow "
   ]
  },
  {
   "cell_type": "markdown",
   "metadata": {},
   "source": [
    "## Linear regression in TensorFlow\n",
    "- Model the linear relationship between\n",
    "    + dependent variable Y, explanatory variables X \n",
    "    + Find a linear relationship between X and Y to predict Y from X \n",
    "- Inference: Y_predicted = w * X +b"
   ]
  },
  {
   "cell_type": "markdown",
   "metadata": {},
   "source": [
    "### Linear Regression with huber loss by high-level\n",
    "- Huber loss \n",
    "    + Robust to ouliers \n",
    "    + If the difference between the predicted value and the real value is small, square it\n",
    "    + If it's large, take its absolute value\n",
    "- Implementing Huber loss \n",
    "    + tf.losses.huber_loss"
   ]
  },
  {
   "cell_type": "markdown",
   "metadata": {},
   "source": [
    "#### Setup "
   ]
  },
  {
   "cell_type": "code",
   "execution_count": 1,
   "metadata": {},
   "outputs": [
    {
     "name": "stdout",
     "output_type": "stream",
     "text": [
      "1.11.0\n"
     ]
    }
   ],
   "source": [
    "import os, sys\n",
    "import numpy as np\n",
    "import pandas as pd\n",
    "import matplotlib.pyplot as plt\n",
    "import tensorflow as tf\n",
    "%matplotlib inline\n",
    "\n",
    "print(tf.__version__)"
   ]
  },
  {
   "cell_type": "markdown",
   "metadata": {},
   "source": [
    "#### Load and Pre-process data "
   ]
  },
  {
   "cell_type": "code",
   "execution_count": 2,
   "metadata": {},
   "outputs": [
    {
     "data": {
      "text/html": [
       "<div>\n",
       "<style scoped>\n",
       "    .dataframe tbody tr th:only-of-type {\n",
       "        vertical-align: middle;\n",
       "    }\n",
       "\n",
       "    .dataframe tbody tr th {\n",
       "        vertical-align: top;\n",
       "    }\n",
       "\n",
       "    .dataframe thead th {\n",
       "        text-align: right;\n",
       "    }\n",
       "</style>\n",
       "<table border=\"1\" class=\"dataframe\">\n",
       "  <thead>\n",
       "    <tr style=\"text-align: right;\">\n",
       "      <th></th>\n",
       "      <th>Country</th>\n",
       "      <th>Birth rate</th>\n",
       "      <th>Life expectancy</th>\n",
       "    </tr>\n",
       "  </thead>\n",
       "  <tbody>\n",
       "    <tr>\n",
       "      <th>0</th>\n",
       "      <td>Vietnam</td>\n",
       "      <td>1.822</td>\n",
       "      <td>74.828244</td>\n",
       "    </tr>\n",
       "    <tr>\n",
       "      <th>1</th>\n",
       "      <td>Vanuatu</td>\n",
       "      <td>3.869</td>\n",
       "      <td>70.819488</td>\n",
       "    </tr>\n",
       "    <tr>\n",
       "      <th>2</th>\n",
       "      <td>Tonga</td>\n",
       "      <td>3.911</td>\n",
       "      <td>72.150659</td>\n",
       "    </tr>\n",
       "    <tr>\n",
       "      <th>3</th>\n",
       "      <td>Timor-Leste</td>\n",
       "      <td>5.578</td>\n",
       "      <td>61.999854</td>\n",
       "    </tr>\n",
       "    <tr>\n",
       "      <th>4</th>\n",
       "      <td>Thailand</td>\n",
       "      <td>1.579</td>\n",
       "      <td>73.927659</td>\n",
       "    </tr>\n",
       "  </tbody>\n",
       "</table>\n",
       "</div>"
      ],
      "text/plain": [
       "       Country  Birth rate  Life expectancy\n",
       "0      Vietnam       1.822        74.828244\n",
       "1      Vanuatu       3.869        70.819488\n",
       "2        Tonga       3.911        72.150659\n",
       "3  Timor-Leste       5.578        61.999854\n",
       "4     Thailand       1.579        73.927659"
      ]
     },
     "execution_count": 2,
     "metadata": {},
     "output_type": "execute_result"
    }
   ],
   "source": [
    "# Read in data\n",
    "data = pd.read_table('../data/birth_life_2010.txt')\n",
    "data.head()"
   ]
  },
  {
   "cell_type": "code",
   "execution_count": 3,
   "metadata": {},
   "outputs": [
    {
     "name": "stdout",
     "output_type": "stream",
     "text": [
      "(190,) (190,)\n"
     ]
    }
   ],
   "source": [
    "x = data.loc[:, 'Birth rate'].values\n",
    "y = data.loc[:, 'Life expectancy'].values\n",
    "print(x.shape, y.shape)"
   ]
  },
  {
   "cell_type": "code",
   "execution_count": 4,
   "metadata": {},
   "outputs": [
    {
     "name": "stdout",
     "output_type": "stream",
     "text": [
      "tr_indices: [ 33 146  34  63  60 132 181  50  27 101  57 139  46 153 159  31 119  87\n",
      " 169 106  48 118  30 187  24 115 142  13  26 141  83 123 171  11 140  37\n",
      " 172  81  78  14 188  89 117  49 156 160 112  67  10  16 107  90 178 110\n",
      "   0  53  38   7 116 161   2 168  51  92 109  94 136  80  91   3 131 137\n",
      " 105  29 162  59  55 144  69 100  73  62 102 182 166  75 165  99  66 150\n",
      "  84 147 151  19 157  72 143  47   4 111  44 170 145  28 158 103 155 125\n",
      "  25  54 167  61  58  93 175  70  12 114 154 129  82  36 126  23 176 185\n",
      " 128   9 149 104  79  22 186]\n"
     ]
    }
   ],
   "source": [
    "# Split train and validation \n",
    "# 190개에서 0.7= 133개 선택(idex)\n",
    "tr_indices = np.random.choice(range(x.shape[0]), size = int(x.shape[0] * .7), replace=False)\n",
    "print('tr_indices: {}'.format(tr_indices))"
   ]
  },
  {
   "cell_type": "code",
   "execution_count": 5,
   "metadata": {},
   "outputs": [
    {
     "name": "stdout",
     "output_type": "stream",
     "text": [
      "(133,) (133,)\n",
      "(57,) (57,)\n"
     ]
    }
   ],
   "source": [
    "x_tr = x[tr_indices]\n",
    "y_tr = y[tr_indices]\n",
    "\n",
    "x_val = np.delete(x, tr_indices, axis=0)\n",
    "y_val = np.delete(y, tr_indices, axis=0)\n",
    "\n",
    "print(x_tr.shape, y_tr.shape)\n",
    "print(x_val.shape, y_val.shape)"
   ]
  },
  {
   "cell_type": "markdown",
   "metadata": {},
   "source": [
    "#### Define the graph of Simple Linear Regression "
   ]
  },
  {
   "cell_type": "code",
   "execution_count": 6,
   "metadata": {},
   "outputs": [],
   "source": [
    "# Create placeholders for inputs(X, birth rate) and labels(Y, life expectancy)\n",
    "X = tf.placeholder(dtype=tf.float32, shape=[None], name='input')\n",
    "Y = tf.placeholder(dtype=tf.float32, shape=[None], name='label')\n",
    "\n",
    "# Createweight and bias\n",
    "w = tf.get_variable(name='weight', initializer=tf.constant(.0))\n",
    "b = tf.get_variable(name='bias', initializer=tf.constant(.0))\n",
    "\n",
    "# Inference: Construct model to predict Y\n",
    "y_predicted = X * w + b\n",
    "\n",
    "# Specify loss function\n",
    "# Use the square error as huber loss function\n",
    "huber_loss = tf.losses.huber_loss(labels=Y, predictions=y_predicted, delta=14.)\n",
    "huber_loss_summ = tf.summary.scalar(name='huber_loss', tensor=huber_loss)\n",
    "\n",
    "# Create optimizer\n",
    "# Using gradient descent with learning rate of 0.01 to minimize loss \n",
    "opt = tf.train.GradientDescentOptimizer(learning_rate=.01)\n",
    "training_op = opt.minimize(huber_loss)"
   ]
  },
  {
   "cell_type": "markdown",
   "metadata": {},
   "source": [
    "#### Training \n",
    "1. Initialize variables \n",
    "2. Run optimizer"
   ]
  },
  {
   "cell_type": "code",
   "execution_count": 7,
   "metadata": {},
   "outputs": [
    {
     "name": "stdout",
     "output_type": "stream",
     "text": [
      "23\n"
     ]
    }
   ],
   "source": [
    "epochs = 100\n",
    "batch_size = 8\n",
    "total_step = int(x.shape[0] / batch_size)\n",
    "print(total_step)"
   ]
  },
  {
   "cell_type": "code",
   "execution_count": 10,
   "metadata": {},
   "outputs": [],
   "source": [
    "train_writer = tf.summary.FileWriter(logdir='../graphs/lec03/linreg_huber_high_tf_placeholder/train',\n",
    "                                    graph=tf.get_default_graph())\n",
    "val_writer = tf.summary.FileWriter(logdir='../graphs/lec03/linreg_huber_high_tf_placeholder/val',\n",
    "                                  graph=tf.get_default_graph())"
   ]
  },
  {
   "cell_type": "code",
   "execution_count": 11,
   "metadata": {},
   "outputs": [
    {
     "name": "stdout",
     "output_type": "stream",
     "text": [
      "epoch :   0, tr_loss: 674.18, val_loss: 690.99\n",
      "epoch :  10, tr_loss: 338.12, val_loss: 267.04\n",
      "epoch :  20, tr_loss: 256.70, val_loss: 221.79\n",
      "epoch :  30, tr_loss: 191.24, val_loss: 154.48\n",
      "epoch :  40, tr_loss: 121.16, val_loss: 108.16\n",
      "epoch :  50, tr_loss: 72.91, val_loss: 57.73\n",
      "epoch :  60, tr_loss: 39.60, val_loss: 30.80\n",
      "epoch :  70, tr_loss: 28.69, val_loss: 20.18\n",
      "epoch :  80, tr_loss: 21.45, val_loss: 14.58\n",
      "epoch :  90, tr_loss: 18.98, val_loss: 11.34\n"
     ]
    }
   ],
   "source": [
    "sess = tf.Session()\n",
    "sess.run(tf.global_variables_initializer())\n",
    "\n",
    "tr_loss_hist = []\n",
    "val_loss_hist = []\n",
    "\n",
    "for epoch in range(epochs):#epoch = 100\n",
    "    avg_tr_loss = 0\n",
    "    avg_val_loss = 0\n",
    "    \n",
    "    for step in range(total_step):#total_step = 23 \n",
    "        # batch_indices = 133개 중에 8개씩 \n",
    "        batch_indices = np.random.choice(range(x_tr.shape[0]),\n",
    "                                        size=batch_size, replace=False)\n",
    "        val_indices = np.random.choice(range(x_val.shape[0]),\n",
    "                                      size=batch_size, replace=False)\n",
    "        batch_xs = x_tr[batch_indices]\n",
    "        batch_ys = y_tr[batch_indices]\n",
    "        val_xs = x_val[val_indices]\n",
    "        val_ys = y_val[val_indices]\n",
    "        \n",
    "        _, tr_loss = sess.run(fetches=[training_op, huber_loss],\n",
    "                             feed_dict={X: batch_xs, Y: batch_ys})\n",
    "        tr_loss_summ = sess.run(huber_loss_summ, feed_dict={X: batch_xs, Y: batch_ys})\n",
    "        \n",
    "        val_loss, val_loss_summ = sess.run(fetches=[huber_loss, huber_loss_summ],\n",
    "                                         feed_dict={X: val_xs, Y: val_ys})\n",
    "        avg_tr_loss += tr_loss / total_step\n",
    "        avg_val_loss += val_loss / total_step\n",
    "        \n",
    "    train_writer.add_summary(tr_loss_summ, global_step=epoch)\n",
    "    val_writer.add_summary(val_loss_summ, global_step=epoch)\n",
    "    tr_loss_hist.append(avg_tr_loss)\n",
    "    val_loss_hist.append(avg_val_loss)\n",
    "    \n",
    "    if epoch % 10 == 0:\n",
    "        print('epoch : {:3}, tr_loss: {:.2f}, val_loss: {:.2f}'.format(epoch, avg_tr_loss, avg_val_loss))\n",
    "\n",
    "train_writer.close()\n",
    "val_writer.close()"
   ]
  },
  {
   "cell_type": "markdown",
   "metadata": {},
   "source": [
    "#### Visualization"
   ]
  },
  {
   "cell_type": "code",
   "execution_count": 12,
   "metadata": {},
   "outputs": [
    {
     "data": {
      "text/plain": [
       "<matplotlib.legend.Legend at 0x266c2170630>"
      ]
     },
     "execution_count": 12,
     "metadata": {},
     "output_type": "execute_result"
    },
    {
     "data": {
      "image/png": "[encoded data removed]",
      "text/plain": [
       "<Figure size 432x288 with 1 Axes>"
      ]
     },
     "metadata": {},
     "output_type": "display_data"
    }
   ],
   "source": [
    "plt.plot(tr_loss_hist, label='train')\n",
    "plt.plot(val_loss_hist, label='validation')\n",
    "plt.legend()"
   ]
  },
  {
   "cell_type": "code",
   "execution_count": 13,
   "metadata": {},
   "outputs": [
    {
     "data": {
      "text/plain": [
       "<matplotlib.legend.Legend at 0x266c241f0b8>"
      ]
     },
     "execution_count": 13,
     "metadata": {},
     "output_type": "execute_result"
    },
    {
     "data": {
      "image/png": "[encoded data removed]",
      "text/plain": [
       "<Figure size 432x288 with 1 Axes>"
      ]
     },
     "metadata": {},
     "output_type": "display_data"
    }
   ],
   "source": [
    "w_out, b_out = sess.run([w, b])\n",
    "plt.plot(data.iloc[:,1], data.iloc[:,2], 'bo', label='Real data')\n",
    "plt.plot(data.iloc[:,1], data.iloc[:,1] * w_out + b_out, 'r', label='Predicted data')\n",
    "plt.legend()"
   ]
  },
  {
   "cell_type": "code",
   "execution_count": null,
   "metadata": {},
   "outputs": [],
   "source": []
  }
 ],
 "metadata": {
  "kernelspec": {
   "display_name": "Python 3",
   "language": "python",
   "name": "python3"
  },
  "language_info": {
   "codemirror_mode": {
    "name": "ipython",
    "version": 3
   },
   "file_extension": ".py",
   "mimetype": "text/x-python",
   "name": "python",
   "nbconvert_exporter": "python",
   "pygments_lexer": "ipython3",
   "version": "3.6.6"
  }
 },
 "nbformat": 4,
 "nbformat_minor": 2
}
