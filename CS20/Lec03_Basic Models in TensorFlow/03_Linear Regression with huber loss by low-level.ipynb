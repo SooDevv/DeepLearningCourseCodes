{
 "cells": [
  {
   "cell_type": "markdown",
   "metadata": {},
   "source": [
    "# Basic Models in TensorFlow "
   ]
  },
  {
   "cell_type": "markdown",
   "metadata": {},
   "source": [
    "## Linear regression in TensorFlow\n",
    "- Model the linear relationship between\n",
    "    + dependent variable Y, explanatory variables X \n",
    "    + Find a linear relationship between X and Y to predict Y from X \n",
    "- Inference: Y_predicted = w * X +b"
   ]
  },
  {
   "cell_type": "markdown",
   "metadata": {},
   "source": [
    "### Linear Regression with huber loss by low-level\n",
    "- Huber loss \n",
    "    + Robust to ouliers \n",
    "    + If the difference between the predicted value and the real value is small, square it\n",
    "    + If it's large, take its absolute value\n",
    "- Implementing Huber loss \n",
    "    + tf.cond(pred, fn1, fn2, name=None)"
   ]
  },
  {
   "cell_type": "markdown",
   "metadata": {},
   "source": [
    "#### Setup "
   ]
  },
  {
   "cell_type": "code",
   "execution_count": 1,
   "metadata": {},
   "outputs": [
    {
     "name": "stdout",
     "output_type": "stream",
     "text": [
      "1.11.0\n"
     ]
    }
   ],
   "source": [
    "import os, sys\n",
    "import numpy as np\n",
    "import pandas as pd\n",
    "import matplotlib.pyplot as plt\n",
    "import tensorflow as tf\n",
    "%matplotlib inline\n",
    "\n",
    "print(tf.__version__)"
   ]
  },
  {
   "cell_type": "markdown",
   "metadata": {},
   "source": [
    "#### Load and Pre-process data "
   ]
  },
  {
   "cell_type": "code",
   "execution_count": 2,
   "metadata": {},
   "outputs": [
    {
     "data": {
      "text/html": [
       "<div>\n",
       "<style scoped>\n",
       "    .dataframe tbody tr th:only-of-type {\n",
       "        vertical-align: middle;\n",
       "    }\n",
       "\n",
       "    .dataframe tbody tr th {\n",
       "        vertical-align: top;\n",
       "    }\n",
       "\n",
       "    .dataframe thead th {\n",
       "        text-align: right;\n",
       "    }\n",
       "</style>\n",
       "<table border=\"1\" class=\"dataframe\">\n",
       "  <thead>\n",
       "    <tr style=\"text-align: right;\">\n",
       "      <th></th>\n",
       "      <th>Country</th>\n",
       "      <th>Birth rate</th>\n",
       "      <th>Life expectancy</th>\n",
       "    </tr>\n",
       "  </thead>\n",
       "  <tbody>\n",
       "    <tr>\n",
       "      <th>0</th>\n",
       "      <td>Vietnam</td>\n",
       "      <td>1.822</td>\n",
       "      <td>74.828244</td>\n",
       "    </tr>\n",
       "    <tr>\n",
       "      <th>1</th>\n",
       "      <td>Vanuatu</td>\n",
       "      <td>3.869</td>\n",
       "      <td>70.819488</td>\n",
       "    </tr>\n",
       "    <tr>\n",
       "      <th>2</th>\n",
       "      <td>Tonga</td>\n",
       "      <td>3.911</td>\n",
       "      <td>72.150659</td>\n",
       "    </tr>\n",
       "    <tr>\n",
       "      <th>3</th>\n",
       "      <td>Timor-Leste</td>\n",
       "      <td>5.578</td>\n",
       "      <td>61.999854</td>\n",
       "    </tr>\n",
       "    <tr>\n",
       "      <th>4</th>\n",
       "      <td>Thailand</td>\n",
       "      <td>1.579</td>\n",
       "      <td>73.927659</td>\n",
       "    </tr>\n",
       "  </tbody>\n",
       "</table>\n",
       "</div>"
      ],
      "text/plain": [
       "       Country  Birth rate  Life expectancy\n",
       "0      Vietnam       1.822        74.828244\n",
       "1      Vanuatu       3.869        70.819488\n",
       "2        Tonga       3.911        72.150659\n",
       "3  Timor-Leste       5.578        61.999854\n",
       "4     Thailand       1.579        73.927659"
      ]
     },
     "execution_count": 2,
     "metadata": {},
     "output_type": "execute_result"
    }
   ],
   "source": [
    "# Read in data\n",
    "data = pd.read_table('../data/birth_life_2010.txt')\n",
    "data.head()"
   ]
  },
  {
   "cell_type": "code",
   "execution_count": 3,
   "metadata": {},
   "outputs": [
    {
     "name": "stdout",
     "output_type": "stream",
     "text": [
      "(190,) (190,)\n"
     ]
    }
   ],
   "source": [
    "x = data.loc[:, 'Birth rate'].values\n",
    "y = data.loc[:, 'Life expectancy'].values\n",
    "print(x.shape, y.shape)"
   ]
  },
  {
   "cell_type": "code",
   "execution_count": 4,
   "metadata": {},
   "outputs": [
    {
     "name": "stdout",
     "output_type": "stream",
     "text": [
      "tr_indices: [136   4   6 111  93 141  96  59 140  40  83  17 178 134 175   5  50 183\n",
      " 145  98  46 159  87  10  42  94  88  81  36  43  11  33 106  90 105 187\n",
      "  66 100  61  65 128 152  91   8  13 114  63  70  95 155 102 160 165  75\n",
      "  29 104  14  38 121  19  79  47 107  28 146 129 172 101 135 151  69  56\n",
      " 177  60  16  31 180 125  20  12  67  76 148  99  74 144  35 119 168 158\n",
      "  68  64 157  58  62 166 116   0  32  48 188   1   9  30 162  24 120  44\n",
      " 179  54 174   7 185 122 139 118  49 143  23 154  85  39 130  21 109 156\n",
      " 186 133 171 137  22 150  34]\n"
     ]
    }
   ],
   "source": [
    "# Split train and validation \n",
    "# 190개에서 0.7= 133개 선택(idex)\n",
    "tr_indices = np.random.choice(range(x.shape[0]), size = int(x.shape[0] * .7), replace=False)\n",
    "print('tr_indices: {}'.format(tr_indices))"
   ]
  },
  {
   "cell_type": "code",
   "execution_count": 5,
   "metadata": {},
   "outputs": [
    {
     "name": "stdout",
     "output_type": "stream",
     "text": [
      "(133,) (133,)\n",
      "(57,) (57,)\n"
     ]
    }
   ],
   "source": [
    "x_tr = x[tr_indices]\n",
    "y_tr = y[tr_indices]\n",
    "\n",
    "x_val = np.delete(x, tr_indices, axis=0)\n",
    "y_val = np.delete(y, tr_indices, axis=0)\n",
    "\n",
    "print(x_tr.shape, y_tr.shape)\n",
    "print(x_val.shape, y_val.shape)"
   ]
  },
  {
   "cell_type": "markdown",
   "metadata": {},
   "source": [
    "#### Define the graph of Simple Linear Regression "
   ]
  },
  {
   "cell_type": "code",
   "execution_count": 14,
   "metadata": {},
   "outputs": [],
   "source": [
    "tf.reset_default_graph()\n",
    "\n",
    "# Create placeholders for inputs(X, birth rate) and labels(Y, life expectancy)\n",
    "X = tf.placeholder(dtype=tf.float32, shape=[None], name='input')\n",
    "Y = tf.placeholder(dtype=tf.float32, shape=[None], name='label')\n",
    "\n",
    "# Createweight and bias\n",
    "w = tf.get_variable(name='weight', initializer=tf.constant(.0))\n",
    "b = tf.get_variable(name='bias', initializer=tf.constant(.0))\n",
    "\n",
    "# Inference: Construct model to predict Y\n",
    "y_predicted = X * w + b\n",
    "\n",
    "# Specify loss function\n",
    "# Use the square error as huber loss function\n",
    "residual = tf.abs(Y - y_predicted)\n",
    "huber_loss = tf.cond(tf.reduce_mean(residual) <= 14.,\n",
    "                     lambda : .5 * tf.reduce_mean(tf.square(residual)),\n",
    "                     lambda : 14. * tf.reduce_mean(residual) - .5 * tf.square(14.))\n",
    "huber_loss_summ = tf.summary.scalar(name='huber_loss', tensor=huber_loss)\n",
    "# Create optimizer\n",
    "# Using gradient descent with learning rate of 0.01 to minimize loss \n",
    "opt = tf.train.GradientDescentOptimizer(learning_rate=.01)\n",
    "training_op = opt.minimize(huber_loss)"
   ]
  },
  {
   "cell_type": "markdown",
   "metadata": {},
   "source": [
    "#### Training \n",
    "1. Initialize variables \n",
    "2. Run optimizer"
   ]
  },
  {
   "cell_type": "code",
   "execution_count": 10,
   "metadata": {},
   "outputs": [
    {
     "name": "stdout",
     "output_type": "stream",
     "text": [
      "23\n"
     ]
    }
   ],
   "source": [
    "epochs = 100\n",
    "batch_size = 8\n",
    "total_step = int(x.shape[0] / batch_size)\n",
    "print(total_step)"
   ]
  },
  {
   "cell_type": "code",
   "execution_count": 12,
   "metadata": {},
   "outputs": [],
   "source": [
    "train_writer = tf.summary.FileWriter(logdir='../graphs/lec03/linreg_huber_low_tf_placeholder/train',\n",
    "                                    graph=tf.get_default_graph())\n",
    "val_writer = tf.summary.FileWriter(logdir='../graphs/lec03/linreg_huber_low_tf_placeholder/val',\n",
    "                                  graph=tf.get_default_graph())"
   ]
  },
  {
   "cell_type": "code",
   "execution_count": 15,
   "metadata": {},
   "outputs": [
    {
     "name": "stdout",
     "output_type": "stream",
     "text": [
      "epoch :   0, tr_loss: 661.91, val_loss: 662.36\n",
      "epoch :  10, tr_loss: 313.32, val_loss: 313.08\n",
      "epoch :  20, tr_loss: 220.44, val_loss: 233.86\n",
      "epoch :  30, tr_loss: 175.07, val_loss: 148.35\n",
      "epoch :  40, tr_loss: 124.32, val_loss: 100.15\n",
      "epoch :  50, tr_loss: 66.44, val_loss: 61.22\n",
      "epoch :  60, tr_loss: 35.81, val_loss: 36.86\n",
      "epoch :  70, tr_loss: 19.41, val_loss: 25.31\n",
      "epoch :  80, tr_loss: 17.15, val_loss: 19.38\n",
      "epoch :  90, tr_loss: 11.89, val_loss: 16.92\n"
     ]
    }
   ],
   "source": [
    "sess = tf.Session()\n",
    "sess.run(tf.global_variables_initializer())\n",
    "\n",
    "tr_loss_hist = []\n",
    "val_loss_hist = []\n",
    "\n",
    "for epoch in range(epochs):#epoch = 100\n",
    "    avg_tr_loss = 0\n",
    "    avg_val_loss = 0\n",
    "    \n",
    "    for step in range(total_step):#total_step = 23 \n",
    "        # batch_indices = 133개 중에 8개씩 \n",
    "        batch_indices = np.random.choice(range(x_tr.shape[0]),\n",
    "                                        size=batch_size, replace=False)\n",
    "        val_indices = np.random.choice(range(x_val.shape[0]),\n",
    "                                      size=batch_size, replace=False)\n",
    "        batch_xs = x_tr[batch_indices]\n",
    "        batch_ys = y_tr[batch_indices]\n",
    "        val_xs = x_val[val_indices]\n",
    "        val_ys = y_val[val_indices]\n",
    "        \n",
    "        _, tr_loss = sess.run(fetches=[training_op, huber_loss],\n",
    "                             feed_dict={X: batch_xs, Y: batch_ys})\n",
    "        tr_loss_summ = sess.run(huber_loss_summ, feed_dict={X: batch_xs, Y: batch_ys})\n",
    "        \n",
    "        val_loss, val_loss_summ = sess.run(fetches=[huber_loss, huber_loss_summ],\n",
    "                                         feed_dict={X: val_xs, Y: val_ys})\n",
    "        avg_tr_loss += tr_loss / total_step\n",
    "        avg_val_loss += val_loss / total_step\n",
    "        \n",
    "    train_writer.add_summary(tr_loss_summ, global_step=epoch)\n",
    "    val_writer.add_summary(val_loss_summ, global_step=epoch)\n",
    "    tr_loss_hist.append(avg_tr_loss)\n",
    "    val_loss_hist.append(avg_val_loss)\n",
    "    \n",
    "    if epoch % 10 == 0:\n",
    "        print('epoch : {:3}, tr_loss: {:.2f}, val_loss: {:.2f}'.format(epoch, avg_tr_loss, avg_val_loss))\n",
    "\n",
    "train_writer.close()\n",
    "val_writer.close()"
   ]
  },
  {
   "cell_type": "markdown",
   "metadata": {},
   "source": [
    "#### Visualization"
   ]
  },
  {
   "cell_type": "code",
   "execution_count": 16,
   "metadata": {},
   "outputs": [
    {
     "data": {
      "text/plain": [
       "<matplotlib.legend.Legend at 0x1b1e19f2320>"
      ]
     },
     "execution_count": 16,
     "metadata": {},
     "output_type": "execute_result"
    },
    {
     "data": {
      "image/png": "[encoded data removed]",
      "text/plain": [
       "<Figure size 432x288 with 1 Axes>"
      ]
     },
     "metadata": {},
     "output_type": "display_data"
    }
   ],
   "source": [
    "plt.plot(tr_loss_hist, label='train')\n",
    "plt.plot(val_loss_hist, label='validation')\n",
    "plt.legend()"
   ]
  },
  {
   "cell_type": "code",
   "execution_count": 17,
   "metadata": {},
   "outputs": [
    {
     "data": {
      "text/plain": [
       "<matplotlib.legend.Legend at 0x1b1e1a4d630>"
      ]
     },
     "execution_count": 17,
     "metadata": {},
     "output_type": "execute_result"
    },
    {
     "data": {
      "image/png": "[encoded data removed]",
      "text/plain": [
       "<Figure size 432x288 with 1 Axes>"
      ]
     },
     "metadata": {},
     "output_type": "display_data"
    }
   ],
   "source": [
    "w_out, b_out = sess.run([w, b])\n",
    "plt.plot(data.iloc[:,1], data.iloc[:,2], 'bo', label='Real data')\n",
    "plt.plot(data.iloc[:,1], data.iloc[:,1] * w_out + b_out, 'r', label='Predicted data')\n",
    "plt.legend()"
   ]
  }
 ],
 "metadata": {
  "kernelspec": {
   "display_name": "Python 3",
   "language": "python",
   "name": "python3"
  },
  "language_info": {
   "codemirror_mode": {
    "name": "ipython",
    "version": 3
   },
   "file_extension": ".py",
   "mimetype": "text/x-python",
   "name": "python",
   "nbconvert_exporter": "python",
   "pygments_lexer": "ipython3",
   "version": "3.6.6"
  }
 },
 "nbformat": 4,
 "nbformat_minor": 2
}
