{
 "cells": [
  {
   "cell_type": "markdown",
   "metadata": {},
   "source": [
    "## train step 비교\n",
    "- step :2000\n",
    "    * cost : 7.9358\n",
    "    * prediction = [153.82374, 182.72842, 181.03207, 198.9426, 137.40715]\n",
    "- step : 20000\n",
    "    * cost : 0.21331373\n",
    "    * prediction = [151.87027 184.4484  180.75464 195.70776 142.30098]"
   ]
  },
  {
   "cell_type": "code",
   "execution_count": 1,
   "metadata": {},
   "outputs": [],
   "source": [
    "import tensorflow as tf"
   ]
  },
  {
   "cell_type": "code",
   "execution_count": 8,
   "metadata": {},
   "outputs": [],
   "source": [
    "#dataset\n",
    "x1_data = [73, 93, 89, 96, 73]\n",
    "x2_data = [80, 88, 91, 98, 66]\n",
    "x3_data = [75, 93, 90, 100, 70]\n",
    "y_data = [152, 185, 180, 196, 142]"
   ]
  },
  {
   "cell_type": "code",
   "execution_count": 9,
   "metadata": {},
   "outputs": [],
   "source": [
    "#placeholders for a tensor\n",
    "x1 = tf.placeholder(tf.float32)\n",
    "x2 = tf.placeholder(tf.float32)\n",
    "x3 = tf.placeholder(tf.float32)\n",
    "y = tf.placeholder(tf.float32)"
   ]
  },
  {
   "cell_type": "code",
   "execution_count": 10,
   "metadata": {},
   "outputs": [],
   "source": [
    "# weight, bias, hypothesis\n",
    "w1 = tf.Variable(tf.random_normal([1]), name='weight1')\n",
    "w2 = tf.Variable(tf.random_normal([1]), name='weight2')\n",
    "w3 = tf.Variable(tf.random_normal([1]), name='weight3')\n",
    "b = tf.Variable(tf.random_normal([1]), name='bias')\n",
    "\n",
    "h = x1*w1 + x2*w2 + x3*w3 + b"
   ]
  },
  {
   "cell_type": "code",
   "execution_count": 11,
   "metadata": {},
   "outputs": [],
   "source": [
    "#cost function \n",
    "cost = tf.reduce_mean(tf.square(h - y))\n",
    "#optimizer with small learning rate\n",
    "optimizer = tf.train.GradientDescentOptimizer(learning_rate = 1e-5)\n",
    "train = optimizer.minimize(cost)"
   ]
  },
  {
   "cell_type": "code",
   "execution_count": 15,
   "metadata": {},
   "outputs": [
    {
     "name": "stdout",
     "output_type": "stream",
     "text": [
      "0 cost:  8379.108 \n",
      "Prediction:\n",
      " [81.20426  80.08805  88.05676  93.29316  59.085957]\n",
      "1000 cost:  29.795074 \n",
      "Prediction:\n",
      " [159.74078 179.08119 183.2028  197.19785 135.4938 ]\n",
      "2000 cost:  17.449474 \n",
      "Prediction:\n",
      " [157.88028 180.35477 182.63033 196.80247 137.14934]\n",
      "3000 cost:  10.266433 \n",
      "Prediction:\n",
      " [156.45952 181.32686 182.19258 196.50421 138.40956]\n",
      "4000 cost:  6.0861287 \n",
      "Prediction:\n",
      " [155.37424 182.06906 181.8577  196.27995 139.3684 ]\n",
      "5000 cost:  3.6522613 \n",
      "Prediction:\n",
      " [154.5448  182.6359  181.60126 196.11206 140.09744]\n",
      "6000 cost:  2.2342036 \n",
      "Prediction:\n",
      " [153.9105  183.069   181.40466 195.9871  140.6513 ]\n",
      "7000 cost:  1.4071 \n",
      "Prediction:\n",
      " [153.42508 183.40007 181.25374 195.89476 141.0716 ]\n",
      "8000 cost:  0.9238075 \n",
      "Prediction:\n",
      " [153.05325 183.6533  181.13765 195.82727 141.39006]\n",
      "9000 cost:  0.6405666 \n",
      "Prediction:\n",
      " [152.76808 183.84717 181.04817 195.77864 141.63095]\n",
      "10000 cost:  0.47376594 \n",
      "Prediction:\n",
      " [152.54904 183.99577 180.97902 195.74434 141.81273]\n",
      "11000 cost:  0.37480327 \n",
      "Prediction:\n",
      " [152.38046 184.10979 180.92537 195.72086 141.94945]\n",
      "12000 cost:  0.3153581 \n",
      "Prediction:\n",
      " [152.25037 184.19746 180.88356 195.7056  142.05188]\n",
      "13000 cost:  0.2790087 \n",
      "Prediction:\n",
      " [152.14972 184.26498 180.8508  195.69655 142.1282 ]\n",
      "14000 cost:  0.25617036 \n",
      "Prediction:\n",
      " [152.07152 184.31715 180.82498 195.69215 142.18465]\n",
      "15000 cost:  0.24126847 \n",
      "Prediction:\n",
      " [152.0105  184.35757 180.80444 195.69125 142.22598]\n",
      "16000 cost:  0.2310617 \n",
      "Prediction:\n",
      " [151.96257 184.38904 180.78798 195.69295 142.25581]\n",
      "17000 cost:  0.22365887 \n",
      "Prediction:\n",
      " [151.92473 184.41367 180.77466 195.69661 142.27695]\n",
      "18000 cost:  0.21795973 \n",
      "Prediction:\n",
      " [151.89453 184.43303 180.76372 195.70166 142.29146]\n",
      "19000 cost:  0.21331373 \n",
      "Prediction:\n",
      " [151.87027 184.4484  180.75464 195.70776 142.30098]\n"
     ]
    }
   ],
   "source": [
    "# launch session\n",
    "sess = tf.Session()\n",
    "# initializze global variables\n",
    "sess.run(tf.global_variables_initializer())\n",
    "for step in range(20000):\n",
    "    cost_val, h_val, _ = sess.run([cost, h, train],\n",
    "                                 feed_dict={x1: x1_data, x2:x2_data, x3:x3_data, y:y_data})\n",
    "    if step % 1000 == 0:\n",
    "        print(step, 'cost: ', cost_val, \"\\nPrediction:\\n\", h_val)"
   ]
  },
  {
   "cell_type": "code",
   "execution_count": null,
   "metadata": {},
   "outputs": [],
   "source": []
  }
 ],
 "metadata": {
  "kernelspec": {
   "display_name": "Python [conda env:tensorflow-gpu]",
   "language": "python",
   "name": "conda-env-tensorflow-gpu-py"
  },
  "language_info": {
   "codemirror_mode": {
    "name": "ipython",
    "version": 3
   },
   "file_extension": ".py",
   "mimetype": "text/x-python",
   "name": "python",
   "nbconvert_exporter": "python",
   "pygments_lexer": "ipython3",
   "version": "3.5.5"
  }
 },
 "nbformat": 4,
 "nbformat_minor": 2
}
