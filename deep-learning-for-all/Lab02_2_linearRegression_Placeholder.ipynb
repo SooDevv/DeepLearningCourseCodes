{
 "cells": [
  {
   "cell_type": "code",
   "execution_count": 1,
   "metadata": {},
   "outputs": [],
   "source": [
    "import tensorflow as tf"
   ]
  },
  {
   "cell_type": "code",
   "execution_count": 2,
   "metadata": {},
   "outputs": [],
   "source": [
    "w = tf.Variable(tf.random_normal([1]), name='weight')\n",
    "b = tf.Variable(tf.random_normal([1]), name='bias')\n",
    "\n",
    "x = tf.placeholder(tf.float32, shape=[None])\n",
    "y = tf.placeholder(tf.float32, shape=[None])"
   ]
  },
  {
   "cell_type": "code",
   "execution_count": 8,
   "metadata": {},
   "outputs": [],
   "source": [
    "#set hypothesis (linear regression)\n",
    "h = x * w + b\n",
    "#cost function\n",
    "cost = tf.reduce_mean(tf.square(h - y))\n",
    "#minimize\n",
    "optimizer = tf.train.GradientDescentOptimizer(learning_rate=0.01)\n",
    "train = optimizer.minimize(cost)"
   ]
  },
  {
   "cell_type": "code",
   "execution_count": 9,
   "metadata": {},
   "outputs": [],
   "source": [
    "#run\n",
    "sess = tf.Session()\n",
    "#initial global variables\n",
    "sess.run(tf.global_variables_initializer())"
   ]
  },
  {
   "cell_type": "code",
   "execution_count": 10,
   "metadata": {},
   "outputs": [
    {
     "name": "stdout",
     "output_type": "stream",
     "text": [
      "0 40.97393 [-0.7349782] [0.39277497]\n",
      "50 0.0057489737 [1.0492234] [0.9222783]\n",
      "100 0.0040973956 [1.0415577] [0.94996333]\n",
      "150 0.002920296 [1.0350841] [0.973335]\n",
      "200 0.002081333 [1.0296189] [0.9930661]\n",
      "250 0.0014833955 [1.025005] [1.009724]\n",
      "300 0.0010572346 [1.0211098] [1.0237867]\n",
      "350 0.0007535044 [1.0178214] [1.035659]\n",
      "400 0.0005370441 [1.0150454] [1.0456814]\n",
      "450 0.00038276613 [1.0127017] [1.0541425]\n",
      "500 0.0002728044 [1.0107232] [1.0612859]\n",
      "550 0.00019443154 [1.0090528] [1.0673164]\n",
      "600 0.00013857805 [1.0076426] [1.0724076]\n",
      "650 9.8766046e-05 [1.0064521] [1.0767057]\n",
      "700 7.0390844e-05 [1.005447] [1.0803344]\n",
      "750 5.0170784e-05 [1.0045985] [1.0833977]\n",
      "800 3.5757137e-05 [1.0038822] [1.0859841]\n",
      "850 2.5482985e-05 [1.0032774] [1.0881674]\n",
      "900 1.8165418e-05 [1.002767] [1.09001]\n",
      "950 1.2946772e-05 [1.002336] [1.0915662]\n",
      "1000 9.227635e-06 [1.0019722] [1.0928798]\n",
      "1050 6.576674e-06 [1.0016649] [1.0939891]\n",
      "1100 4.687947e-06 [1.0014057] [1.094925]\n",
      "1150 3.341075e-06 [1.0011867] [1.0957155]\n",
      "1200 2.3812895e-06 [1.001002] [1.0963827]\n",
      "1250 1.6975052e-06 [1.000846] [1.096946]\n",
      "1300 1.2099865e-06 [1.0007143] [1.0974215]\n",
      "1350 8.627082e-07 [1.0006031] [1.097823]\n",
      "1400 6.149433e-07 [1.0005091] [1.0981618]\n",
      "1450 4.3841874e-07 [1.00043] [1.0984479]\n",
      "1500 3.125985e-07 [1.000363] [1.0986894]\n",
      "1550 2.2288563e-07 [1.0003065] [1.0988933]\n",
      "1600 1.5897385e-07 [1.0002588] [1.0990655]\n",
      "1650 1.1326442e-07 [1.0002186] [1.0992109]\n",
      "1700 8.0798415e-08 [1.0001847] [1.0993335]\n",
      "1750 5.7629904e-08 [1.0001559] [1.0994371]\n",
      "1800 4.1081854e-08 [1.0001316] [1.0995247]\n",
      "1850 2.9300201e-08 [1.0001112] [1.0995985]\n",
      "1900 2.0953859e-08 [1.0000938] [1.0996608]\n",
      "1950 1.4982117e-08 [1.0000795] [1.0997132]\n",
      "2000 1.0712574e-08 [1.0000671] [1.0997574]\n"
     ]
    }
   ],
   "source": [
    "#training\n",
    "for step in range(2001):\n",
    "    cost_val , w_val, b_val, _ = sess.run([cost, w, b, train],\n",
    "                                         feed_dict={x: [1, 2, 3, 4, 5],\n",
    "                                                   y: [2.1, 3.1, 4.1, 5.1, 6.1]})\n",
    "    if step % 50 == 0:\n",
    "        print(step, cost_val, w_val, b_val)"
   ]
  },
  {
   "cell_type": "code",
   "execution_count": 11,
   "metadata": {},
   "outputs": [
    {
     "name": "stdout",
     "output_type": "stream",
     "text": [
      "[6.1000924 8.100226 ]\n"
     ]
    }
   ],
   "source": [
    "# test set \n",
    "print(sess.run(h, feed_dict={x: [5, 7]}))"
   ]
  },
  {
   "cell_type": "code",
   "execution_count": 12,
   "metadata": {},
   "outputs": [
    {
     "name": "stdout",
     "output_type": "stream",
     "text": [
      "[3.1998987]\n"
     ]
    }
   ],
   "source": [
    "print(sess.run(h, feed_dict={x: [2.1]}))"
   ]
  }
 ],
 "metadata": {
  "kernelspec": {
   "display_name": "Python [conda env:tensorflow-gpu]",
   "language": "python",
   "name": "conda-env-tensorflow-gpu-py"
  },
  "language_info": {
   "codemirror_mode": {
    "name": "ipython",
    "version": 3
   },
   "file_extension": ".py",
   "mimetype": "text/x-python",
   "name": "python",
   "nbconvert_exporter": "python",
   "pygments_lexer": "ipython3",
   "version": "3.5.5"
  }
 },
 "nbformat": 4,
 "nbformat_minor": 2
}
