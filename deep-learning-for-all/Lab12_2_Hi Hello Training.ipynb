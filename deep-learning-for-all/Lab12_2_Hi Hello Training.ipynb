{
 "cells": [
  {
   "cell_type": "code",
   "execution_count": 1,
   "metadata": {},
   "outputs": [],
   "source": [
    "import tensorflow as tf\n",
    "import numpy as np\n",
    "tf.set_random_seed(777)"
   ]
  },
  {
   "cell_type": "code",
   "execution_count": 2,
   "metadata": {},
   "outputs": [],
   "source": [
    "idx2char = ['h', 'i', 'e', 'l', 'o']"
   ]
  },
  {
   "cell_type": "code",
   "execution_count": 3,
   "metadata": {},
   "outputs": [],
   "source": [
    "# teach hihello : hihell --> ihello\n",
    "x_data = [[0, 1, 0, 2, 3, 3]] # hihell\n",
    "x_one_hot = [[\n",
    "            [1, 0, 0, 0, 0], #h, 0\n",
    "            [0, 1, 0, 0, 0], #i, 1\n",
    "            [1, 0, 0, 0, 0], #h, 0\n",
    "            [0, 0, 1, 0, 0], #e, 2\n",
    "            [0, 0, 0, 1, 0], #l, 3\n",
    "            [0, 0, 0, 1, 0]  #l, 3\n",
    "            ]]\n",
    "y_data = [[1, 0, 2, 3, 3, 4]] # ihello"
   ]
  },
  {
   "cell_type": "code",
   "execution_count": 4,
   "metadata": {},
   "outputs": [
    {
     "data": {
      "text/plain": [
       "(1, 6)"
      ]
     },
     "execution_count": 4,
     "metadata": {},
     "output_type": "execute_result"
    }
   ],
   "source": [
    "np.shape(x_data)"
   ]
  },
  {
   "cell_type": "code",
   "execution_count": 4,
   "metadata": {},
   "outputs": [],
   "source": [
    "num_classes = 5\n",
    "input_dim = 5 #one-hot size\n",
    "hidden_size = 5 #output, 5 to directly predict one-hot\n",
    "batch_size = 1 #one sentence\n",
    "sequence_length =  6 #|ihello| = 6\n",
    "learning_rate = 0.1"
   ]
  },
  {
   "cell_type": "code",
   "execution_count": 5,
   "metadata": {},
   "outputs": [],
   "source": [
    "X = tf.placeholder(tf.float32, [None, sequence_length, input_dim])\n",
    "Y = tf.placeholder(tf.int32, [None, sequence_length])"
   ]
  },
  {
   "cell_type": "code",
   "execution_count": 7,
   "metadata": {},
   "outputs": [],
   "source": [
    "cell = tf.nn.rnn_cell.LSTMCell(num_units=hidden_size, state_is_tuple=True)\n",
    "initial_state = cell.zero_state(batch_size, tf.float32)\n",
    "outputs, _states = tf.nn.dynamic_rnn(\n",
    "    cell,\n",
    "    X, \n",
    "    initial_state=initial_state, \n",
    "    dtype= tf.float32)"
   ]
  },
  {
   "cell_type": "code",
   "execution_count": 8,
   "metadata": {},
   "outputs": [],
   "source": [
    "# FC layer \n",
    "x_for_fc = tf.reshape(outputs, [-1, hidden_size])\n",
    "outputs = tf.contrib.layers.fully_connected(\n",
    "        inputs=x_for_fc, num_outputs=num_classes, activation_fn=None)"
   ]
  },
  {
   "cell_type": "code",
   "execution_count": 11,
   "metadata": {},
   "outputs": [],
   "source": [
    "# reshape out for sequence_loss\n",
    "outputs = tf.reshape(outputs, [batch_size, sequence_length, num_classes])\n",
    "\n",
    "weights = tf.ones([batch_size, sequence_length])\n",
    "sequence_loss = tf.contrib.seq2seq.sequence_loss(\n",
    "    logits=outputs, targets=Y, weights=weights)\n",
    "loss = tf.reduce_mean(sequence_loss)\n",
    "train = tf.train.AdamOptimizer(learning_rate=learning_rate).minimize(loss)\n",
    "\n",
    "prediction = tf.argmax(outputs, axis=2)"
   ]
  },
  {
   "cell_type": "code",
   "execution_count": 12,
   "metadata": {},
   "outputs": [
    {
     "name": "stdout",
     "output_type": "stream",
     "text": [
      "0 loss: 1.6234845 prediction: [[3 3 3 3 3 3]] true Y: [[1, 0, 2, 3, 3, 4]]\n",
      "\tPrediction str: llllll\n",
      "1 loss: 1.521307 prediction: [[3 3 3 3 3 3]] true Y: [[1, 0, 2, 3, 3, 4]]\n",
      "\tPrediction str: llllll\n",
      "2 loss: 1.4391664 prediction: [[3 3 3 3 3 3]] true Y: [[1, 0, 2, 3, 3, 4]]\n",
      "\tPrediction str: llllll\n",
      "3 loss: 1.3509946 prediction: [[3 3 3 3 3 3]] true Y: [[1, 0, 2, 3, 3, 4]]\n",
      "\tPrediction str: llllll\n",
      "4 loss: 1.2517651 prediction: [[3 0 3 3 3 3]] true Y: [[1, 0, 2, 3, 3, 4]]\n",
      "\tPrediction str: lhllll\n",
      "5 loss: 1.136398 prediction: [[3 0 3 3 3 3]] true Y: [[1, 0, 2, 3, 3, 4]]\n",
      "\tPrediction str: lhllll\n",
      "6 loss: 1.004584 prediction: [[3 0 3 3 3 4]] true Y: [[1, 0, 2, 3, 3, 4]]\n",
      "\tPrediction str: lhlllo\n",
      "7 loss: 0.86709803 prediction: [[1 0 2 3 3 4]] true Y: [[1, 0, 2, 3, 3, 4]]\n",
      "\tPrediction str: ihello\n",
      "8 loss: 0.7363381 prediction: [[1 0 2 3 3 4]] true Y: [[1, 0, 2, 3, 3, 4]]\n",
      "\tPrediction str: ihello\n",
      "9 loss: 0.621623 prediction: [[2 0 2 3 3 4]] true Y: [[1, 0, 2, 3, 3, 4]]\n",
      "\tPrediction str: ehello\n",
      "10 loss: 0.52008724 prediction: [[2 0 2 3 3 4]] true Y: [[1, 0, 2, 3, 3, 4]]\n",
      "\tPrediction str: ehello\n",
      "11 loss: 0.42676267 prediction: [[2 0 2 3 3 4]] true Y: [[1, 0, 2, 3, 3, 4]]\n",
      "\tPrediction str: ehello\n",
      "12 loss: 0.35287142 prediction: [[2 0 2 3 3 4]] true Y: [[1, 0, 2, 3, 3, 4]]\n",
      "\tPrediction str: ehello\n",
      "13 loss: 0.30050537 prediction: [[1 0 2 3 3 4]] true Y: [[1, 0, 2, 3, 3, 4]]\n",
      "\tPrediction str: ihello\n",
      "14 loss: 0.26170647 prediction: [[1 0 2 3 3 4]] true Y: [[1, 0, 2, 3, 3, 4]]\n",
      "\tPrediction str: ihello\n",
      "15 loss: 0.23130737 prediction: [[1 0 2 3 3 4]] true Y: [[1, 0, 2, 3, 3, 4]]\n",
      "\tPrediction str: ihello\n",
      "16 loss: 0.20780168 prediction: [[1 0 2 3 3 4]] true Y: [[1, 0, 2, 3, 3, 4]]\n",
      "\tPrediction str: ihello\n",
      "17 loss: 0.18955968 prediction: [[1 0 2 3 3 4]] true Y: [[1, 0, 2, 3, 3, 4]]\n",
      "\tPrediction str: ihello\n",
      "18 loss: 0.17489773 prediction: [[1 0 2 3 3 4]] true Y: [[1, 0, 2, 3, 3, 4]]\n",
      "\tPrediction str: ihello\n",
      "19 loss: 0.16190028 prediction: [[1 0 2 3 3 4]] true Y: [[1, 0, 2, 3, 3, 4]]\n",
      "\tPrediction str: ihello\n",
      "20 loss: 0.14891602 prediction: [[1 0 2 3 3 4]] true Y: [[1, 0, 2, 3, 3, 4]]\n",
      "\tPrediction str: ihello\n",
      "21 loss: 0.13524532 prediction: [[1 0 2 3 3 4]] true Y: [[1, 0, 2, 3, 3, 4]]\n",
      "\tPrediction str: ihello\n",
      "22 loss: 0.12105908 prediction: [[1 0 2 3 3 4]] true Y: [[1, 0, 2, 3, 3, 4]]\n",
      "\tPrediction str: ihello\n",
      "23 loss: 0.106825374 prediction: [[1 0 2 3 3 4]] true Y: [[1, 0, 2, 3, 3, 4]]\n",
      "\tPrediction str: ihello\n",
      "24 loss: 0.09293552 prediction: [[1 0 2 3 3 4]] true Y: [[1, 0, 2, 3, 3, 4]]\n",
      "\tPrediction str: ihello\n",
      "25 loss: 0.079717495 prediction: [[1 0 2 3 3 4]] true Y: [[1, 0, 2, 3, 3, 4]]\n",
      "\tPrediction str: ihello\n",
      "26 loss: 0.06755769 prediction: [[1 0 2 3 3 4]] true Y: [[1, 0, 2, 3, 3, 4]]\n",
      "\tPrediction str: ihello\n",
      "27 loss: 0.056866214 prediction: [[1 0 2 3 3 4]] true Y: [[1, 0, 2, 3, 3, 4]]\n",
      "\tPrediction str: ihello\n",
      "28 loss: 0.047900047 prediction: [[1 0 2 3 3 4]] true Y: [[1, 0, 2, 3, 3, 4]]\n",
      "\tPrediction str: ihello\n",
      "29 loss: 0.04064192 prediction: [[1 0 2 3 3 4]] true Y: [[1, 0, 2, 3, 3, 4]]\n",
      "\tPrediction str: ihello\n",
      "30 loss: 0.034847684 prediction: [[1 0 2 3 3 4]] true Y: [[1, 0, 2, 3, 3, 4]]\n",
      "\tPrediction str: ihello\n",
      "31 loss: 0.030194733 prediction: [[1 0 2 3 3 4]] true Y: [[1, 0, 2, 3, 3, 4]]\n",
      "\tPrediction str: ihello\n",
      "32 loss: 0.026398402 prediction: [[1 0 2 3 3 4]] true Y: [[1, 0, 2, 3, 3, 4]]\n",
      "\tPrediction str: ihello\n",
      "33 loss: 0.02324397 prediction: [[1 0 2 3 3 4]] true Y: [[1, 0, 2, 3, 3, 4]]\n",
      "\tPrediction str: ihello\n",
      "34 loss: 0.020567778 prediction: [[1 0 2 3 3 4]] true Y: [[1, 0, 2, 3, 3, 4]]\n",
      "\tPrediction str: ihello\n",
      "35 loss: 0.018243669 prediction: [[1 0 2 3 3 4]] true Y: [[1, 0, 2, 3, 3, 4]]\n",
      "\tPrediction str: ihello\n",
      "36 loss: 0.01618881 prediction: [[1 0 2 3 3 4]] true Y: [[1, 0, 2, 3, 3, 4]]\n",
      "\tPrediction str: ihello\n",
      "37 loss: 0.014368346 prediction: [[1 0 2 3 3 4]] true Y: [[1, 0, 2, 3, 3, 4]]\n",
      "\tPrediction str: ihello\n",
      "38 loss: 0.01278289 prediction: [[1 0 2 3 3 4]] true Y: [[1, 0, 2, 3, 3, 4]]\n",
      "\tPrediction str: ihello\n",
      "39 loss: 0.011440039 prediction: [[1 0 2 3 3 4]] true Y: [[1, 0, 2, 3, 3, 4]]\n",
      "\tPrediction str: ihello\n",
      "40 loss: 0.010327123 prediction: [[1 0 2 3 3 4]] true Y: [[1, 0, 2, 3, 3, 4]]\n",
      "\tPrediction str: ihello\n",
      "41 loss: 0.009405971 prediction: [[1 0 2 3 3 4]] true Y: [[1, 0, 2, 3, 3, 4]]\n",
      "\tPrediction str: ihello\n",
      "42 loss: 0.008632157 prediction: [[1 0 2 3 3 4]] true Y: [[1, 0, 2, 3, 3, 4]]\n",
      "\tPrediction str: ihello\n",
      "43 loss: 0.00797198 prediction: [[1 0 2 3 3 4]] true Y: [[1, 0, 2, 3, 3, 4]]\n",
      "\tPrediction str: ihello\n",
      "44 loss: 0.0074025355 prediction: [[1 0 2 3 3 4]] true Y: [[1, 0, 2, 3, 3, 4]]\n",
      "\tPrediction str: ihello\n",
      "45 loss: 0.0069079474 prediction: [[1 0 2 3 3 4]] true Y: [[1, 0, 2, 3, 3, 4]]\n",
      "\tPrediction str: ihello\n",
      "46 loss: 0.00647626 prediction: [[1 0 2 3 3 4]] true Y: [[1, 0, 2, 3, 3, 4]]\n",
      "\tPrediction str: ihello\n",
      "47 loss: 0.0060961507 prediction: [[1 0 2 3 3 4]] true Y: [[1, 0, 2, 3, 3, 4]]\n",
      "\tPrediction str: ihello\n",
      "48 loss: 0.005756285 prediction: [[1 0 2 3 3 4]] true Y: [[1, 0, 2, 3, 3, 4]]\n",
      "\tPrediction str: ihello\n",
      "49 loss: 0.0054489914 prediction: [[1 0 2 3 3 4]] true Y: [[1, 0, 2, 3, 3, 4]]\n",
      "\tPrediction str: ihello\n"
     ]
    }
   ],
   "source": [
    "with tf.Session() as sess:\n",
    "    sess.run(tf.global_variables_initializer())\n",
    "    for i in range(50):\n",
    "        l, _ = sess.run([loss, train], feed_dict={X: x_one_hot, Y:y_data})\n",
    "        result = sess.run(prediction, feed_dict={X:x_one_hot})\n",
    "        print(i, \"loss:\", l, \"prediction:\", result, \"true Y:\", y_data)\n",
    "        \n",
    "        result_str = [idx2char[c] for c in np.squeeze(result)]\n",
    "        print('\\tPrediction str:', ''.join(result_str))"
   ]
  },
  {
   "cell_type": "code",
   "execution_count": null,
   "metadata": {},
   "outputs": [],
   "source": []
  }
 ],
 "metadata": {
  "kernelspec": {
   "display_name": "Python 3",
   "language": "python",
   "name": "python3"
  },
  "language_info": {
   "codemirror_mode": {
    "name": "ipython",
    "version": 3
   },
   "file_extension": ".py",
   "mimetype": "text/x-python",
   "name": "python",
   "nbconvert_exporter": "python",
   "pygments_lexer": "ipython3",
   "version": "3.6.6"
  }
 },
 "nbformat": 4,
 "nbformat_minor": 2
}
