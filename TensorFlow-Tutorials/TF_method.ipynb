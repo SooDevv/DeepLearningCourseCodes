{
 "cells": [
  {
   "cell_type": "markdown",
   "metadata": {},
   "source": [
    "### tf.reshape\n",
    "- a shape of [-1] flattens into 1-D"
   ]
  },
  {
   "cell_type": "code",
   "execution_count": 18,
   "metadata": {},
   "outputs": [],
   "source": [
    "import tensorflow as tf\n",
    "import numpy as np\n"
   ]
  },
  {
   "cell_type": "code",
   "execution_count": 19,
   "metadata": {},
   "outputs": [],
   "source": [
    "def showConstantDetail(t):\n",
    "    sess = tf.InteractiveSession()\n",
    "    print(t.eval())\n",
    "    print('shape :', tf.shape(t))\n",
    "    print('size  :', tf.size(t))\n",
    "    print('rank  :', tf.rank(t))\n",
    "    print(t.get_shape())\n",
    "\n",
    "    sess.close()"
   ]
  },
  {
   "cell_type": "code",
   "execution_count": 30,
   "metadata": {},
   "outputs": [
    {
     "name": "stdout",
     "output_type": "stream",
     "text": [
      "[1 2 3 4 5 6 7 8 9]\n",
      "shape : Tensor(\"Shape_7:0\", shape=(1,), dtype=int32)\n",
      "size  : Tensor(\"Size_7:0\", shape=(), dtype=int32)\n",
      "rank  : Tensor(\"Rank_7:0\", shape=(), dtype=int32)\n",
      "(9,)\n"
     ]
    }
   ],
   "source": [
    "t = tf.constant([1, 2, 3, 4, 5, 6, 7, 8, 9])\n",
    "showConstantDetail(t)"
   ]
  },
  {
   "cell_type": "code",
   "execution_count": 29,
   "metadata": {},
   "outputs": [
    {
     "name": "stdout",
     "output_type": "stream",
     "text": [
      "[[1 2 3]\n",
      " [4 5 6]\n",
      " [7 8 9]]\n",
      "shape : Tensor(\"Shape_6:0\", shape=(2,), dtype=int32)\n",
      "size  : Tensor(\"Size_6:0\", shape=(), dtype=int32)\n",
      "rank  : Tensor(\"Rank_6:0\", shape=(), dtype=int32)\n",
      "(3, 3)\n"
     ]
    }
   ],
   "source": [
    "t = tf.reshape(t, [3,3])\n",
    "showConstantDetail(t)"
   ]
  },
  {
   "cell_type": "code",
   "execution_count": 37,
   "metadata": {},
   "outputs": [
    {
     "name": "stdout",
     "output_type": "stream",
     "text": [
      "[[[1 1]\n",
      "  [2 2]]\n",
      "\n",
      " [[3 3]\n",
      "  [4 4]]]\n",
      "shape : Tensor(\"Shape_16:0\", shape=(3,), dtype=int32)\n",
      "size  : Tensor(\"Size_16:0\", shape=(), dtype=int32)\n",
      "rank  : Tensor(\"Rank_16:0\", shape=(), dtype=int32)\n",
      "(2, 2, 2)\n",
      "reshape!! ==================================================\n",
      "[[1 1 2 2]\n",
      " [3 3 4 4]]\n",
      "shape : Tensor(\"Shape_17:0\", shape=(2,), dtype=int32)\n",
      "size  : Tensor(\"Size_17:0\", shape=(), dtype=int32)\n",
      "rank  : Tensor(\"Rank_17:0\", shape=(), dtype=int32)\n",
      "(2, 4)\n"
     ]
    }
   ],
   "source": [
    "t = tf.constant([[[1, 1], [2, 2]],\n",
    "                 [[3, 3], [4, 4]]])\n",
    "showConstantDetail(t)\n",
    "print('reshape!!', '='*50)\n",
    "t = tf.reshape(t, [2, 4])\n",
    "showConstantDetail(t)"
   ]
  },
  {
   "cell_type": "code",
   "execution_count": 38,
   "metadata": {},
   "outputs": [
    {
     "name": "stdout",
     "output_type": "stream",
     "text": [
      "[1 1 1 2 2 2 3 3 3 4 4 4 5 5 5 6 6 6]\n",
      "shape : Tensor(\"Shape_18:0\", shape=(1,), dtype=int32)\n",
      "size  : Tensor(\"Size_18:0\", shape=(), dtype=int32)\n",
      "rank  : Tensor(\"Rank_18:0\", shape=(), dtype=int32)\n",
      "(18,)\n"
     ]
    }
   ],
   "source": [
    "t = tf.constant([[[1, 1, 1],\n",
    "                [2, 2, 2]],\n",
    "               [[3, 3, 3],\n",
    "                [4, 4, 4]],\n",
    "               [[5, 5, 5],\n",
    "                [6, 6, 6]]])\n",
    "t = tf.reshape(t, [-1])\n",
    "showConstantDetail(t)"
   ]
  },
  {
   "cell_type": "code",
   "execution_count": 43,
   "metadata": {},
   "outputs": [
    {
     "name": "stdout",
     "output_type": "stream",
     "text": [
      "[[1 1 1 2 2 2]\n",
      " [3 3 3 4 4 4]\n",
      " [5 5 5 6 6 6]]\n",
      "shape : Tensor(\"Shape_22:0\", shape=(2,), dtype=int32)\n",
      "size  : Tensor(\"Size_22:0\", shape=(), dtype=int32)\n",
      "rank  : Tensor(\"Rank_22:0\", shape=(), dtype=int32)\n",
      "(3, 6)\n"
     ]
    }
   ],
   "source": [
    "t = tf.reshape(t, [3, -1])\n",
    "showConstantDetail(t)"
   ]
  },
  {
   "cell_type": "code",
   "execution_count": 42,
   "metadata": {},
   "outputs": [
    {
     "name": "stdout",
     "output_type": "stream",
     "text": [
      "[[1 1 1 2 2 2]\n",
      " [3 3 3 4 4 4]\n",
      " [5 5 5 6 6 6]]\n",
      "shape : Tensor(\"Shape_21:0\", shape=(2,), dtype=int32)\n",
      "size  : Tensor(\"Size_21:0\", shape=(), dtype=int32)\n",
      "rank  : Tensor(\"Rank_21:0\", shape=(), dtype=int32)\n",
      "(3, 6)\n"
     ]
    }
   ],
   "source": [
    "t = tf.reshape(t, [-1, 6])\n",
    "showConstantDetail(t)"
   ]
  },
  {
   "cell_type": "code",
   "execution_count": 51,
   "metadata": {},
   "outputs": [
    {
     "name": "stdout",
     "output_type": "stream",
     "text": [
      "[[[1 1 1]\n",
      "  [2 2 2]\n",
      "  [3 3 3]]\n",
      "\n",
      " [[4 4 4]\n",
      "  [5 5 5]\n",
      "  [6 6 6]]]\n",
      "shape : Tensor(\"Shape_24:0\", shape=(3,), dtype=int32)\n",
      "size  : Tensor(\"Size_24:0\", shape=(), dtype=int32)\n",
      "rank  : Tensor(\"Rank_24:0\", shape=(), dtype=int32)\n",
      "(2, 3, 3)\n"
     ]
    },
    {
     "name": "stderr",
     "output_type": "stream",
     "text": [
      "C:\\Program Files\\Anaconda3\\lib\\site-packages\\tensorflow\\python\\client\\session.py:1662: UserWarning: An interactive session is already active. This can cause out-of-memory errors in some cases. You must explicitly call `InteractiveSession.close()` to release resources held by the other session(s).\n",
      "  warnings.warn('An interactive session is already active. This can '\n"
     ]
    }
   ],
   "source": [
    "t = tf.constant([[[1, 1, 1],\n",
    "                [2, 2, 2]],\n",
    "               [[3, 3, 3],\n",
    "                [4, 4, 4]],\n",
    "               [[5, 5, 5],\n",
    "                [6, 6, 6]]])\n",
    "t = tf.reshape(t, [2, -1,3])\n",
    "showConstantDetail(t)"
   ]
  },
  {
   "cell_type": "code",
   "execution_count": null,
   "metadata": {},
   "outputs": [],
   "source": []
  }
 ],
 "metadata": {
  "kernelspec": {
   "display_name": "Python 3",
   "language": "python",
   "name": "python3"
  },
  "language_info": {
   "codemirror_mode": {
    "name": "ipython",
    "version": 3
   },
   "file_extension": ".py",
   "mimetype": "text/x-python",
   "name": "python",
   "nbconvert_exporter": "python",
   "pygments_lexer": "ipython3",
   "version": "3.6.6"
  }
 },
 "nbformat": 4,
 "nbformat_minor": 2
}
