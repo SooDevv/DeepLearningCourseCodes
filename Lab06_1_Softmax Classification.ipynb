{
 "cells": [
  {
   "cell_type": "markdown",
   "metadata": {},
   "source": [
    "## Softmax \n",
    "- Cost : Cross - Entropy\n",
    "\n",
    "![image](https://user-images.githubusercontent.com/33097467/43672109-c9a7f9cc-97e1-11e8-9048-c33db9a5c04d.png)\n",
    "![image](https://user-images.githubusercontent.com/33097467/43672112-043608e0-97e2-11e8-84db-0f41f35f6b76.png)"
   ]
  },
  {
   "cell_type": "markdown",
   "metadata": {},
   "source": [
    "### Implemetaition  "
   ]
  },
  {
   "cell_type": "code",
   "execution_count": 1,
   "metadata": {},
   "outputs": [],
   "source": [
    "import tensorflow as tf"
   ]
  },
  {
   "cell_type": "code",
   "execution_count": 2,
   "metadata": {},
   "outputs": [],
   "source": [
    "x_data = [[1,2,1,1],[2,1,3,2],[3,1,3,4],[4,1,5,5],[1,7,5,5],[1,2,5,6],[1,6,6,6],[1,7,7,7]]\n",
    "# y_data : one-hot encoding \n",
    "y_data = [[0,0,1],[0,0,1],[0,0,1],[0,1,0],[0,1,0],[0,1,0],[1,0,0],[1,0,0]]"
   ]
  },
  {
   "cell_type": "code",
   "execution_count": 3,
   "metadata": {},
   "outputs": [],
   "source": [
    "X = tf.placeholder(tf.float32, [None, 4])\n",
    "Y = tf.placeholder(tf.float32, [None, 3])\n",
    "nb_classes = 3 # 분류할 class 의 개수 "
   ]
  },
  {
   "cell_type": "code",
   "execution_count": 4,
   "metadata": {},
   "outputs": [],
   "source": [
    "W = tf.Variable(tf.random_normal([4, nb_classes]), name='weight')\n",
    "b = tf.Variable(tf.random_normal([nb_classes]), name='bias')"
   ]
  },
  {
   "cell_type": "code",
   "execution_count": 5,
   "metadata": {},
   "outputs": [],
   "source": [
    "# softmax = tf.exp(logits) / tf.reduce_sum(tf.exp(logits), axis)\n",
    "h = tf.nn.softmax(tf.matmul(X, W) + b)"
   ]
  },
  {
   "cell_type": "code",
   "execution_count": 6,
   "metadata": {},
   "outputs": [],
   "source": [
    "# cost\n",
    "cost = tf.reduce_mean(- tf.reduce_sum(Y * tf.log(h), axis=1))\n",
    "optimizer = tf.train.GradientDescentOptimizer(learning_rate=0.1).minimize(cost)"
   ]
  },
  {
   "cell_type": "code",
   "execution_count": 8,
   "metadata": {},
   "outputs": [
    {
     "name": "stdout",
     "output_type": "stream",
     "text": [
      "step: 0, cost: 4.450742244720459\n",
      "step: 200, cost: 0.5862985253334045\n",
      "step: 400, cost: 0.46553871035575867\n",
      "step: 600, cost: 0.36504673957824707\n",
      "step: 800, cost: 0.27525192499160767\n",
      "step: 1000, cost: 0.23870864510536194\n",
      "step: 1200, cost: 0.2156495749950409\n",
      "step: 1400, cost: 0.19665716588497162\n",
      "step: 1600, cost: 0.18069911003112793\n",
      "step: 1800, cost: 0.1670883744955063\n",
      "step: 2000, cost: 0.15533973276615143\n"
     ]
    }
   ],
   "source": [
    "# run session\n",
    "with tf.Session() as sess:\n",
    "    sess.run(tf.global_variables_initializer())\n",
    "    \n",
    "    for step in range(2001):\n",
    "        sess.run(optimizer, feed_dict={X:x_data, Y:y_data})\n",
    "        if step % 200 == 0:\n",
    "            print(\"step: {0}, cost: {1}\".format(step, sess.run(cost, feed_dict={X:x_data, Y:y_data})))"
   ]
  },
  {
   "cell_type": "markdown",
   "metadata": {},
   "source": [
    "### Testing"
   ]
  },
  {
   "cell_type": "code",
   "execution_count": 15,
   "metadata": {},
   "outputs": [
    {
     "name": "stdout",
     "output_type": "stream",
     "text": [
      "[[1.3188219e-04 9.9986815e-01 5.7127142e-12]] [1]\n"
     ]
    }
   ],
   "source": [
    "with tf.Session() as sess:\n",
    "    sess.run(tf.global_variables_initializer())\n",
    "\n",
    "    testSet = sess.run(h, feed_dict={X: [[1, 11, 7, 9 ]]})\n",
    "    print(testSet, sess.run(tf.argmax(testSet, axis=1)))"
   ]
  },
  {
   "cell_type": "code",
   "execution_count": 18,
   "metadata": {},
   "outputs": [
    {
     "name": "stdout",
     "output_type": "stream",
     "text": [
      "[[8.7655199e-01 1.2344795e-01 1.5075892e-14]\n",
      " [3.0363876e-01 6.9633305e-01 2.8245640e-05]\n",
      " [5.4376438e-02 8.9992869e-01 4.5694891e-02]] [0 1 1]\n"
     ]
    }
   ],
   "source": [
    "with tf.Session() as sess:\n",
    "    sess.run(tf.global_variables_initializer())\n",
    "    all = sess.run(h, feed_dict={X:[ [1, 11, 7, 9],\n",
    "                                    [1, 3, 4, 3],\n",
    "                                    [1, 1, 0, 1]]})\n",
    "    print(all, sess.run(tf.argmax(all, axis=1)))"
   ]
  }
 ],
 "metadata": {
  "kernelspec": {
   "display_name": "Python [conda env:tensorflow-gpu]",
   "language": "python",
   "name": "conda-env-tensorflow-gpu-py"
  },
  "language_info": {
   "codemirror_mode": {
    "name": "ipython",
    "version": 3
   },
   "file_extension": ".py",
   "mimetype": "text/x-python",
   "name": "python",
   "nbconvert_exporter": "python",
   "pygments_lexer": "ipython3",
   "version": "3.5.5"
  }
 },
 "nbformat": 4,
 "nbformat_minor": 2
}
