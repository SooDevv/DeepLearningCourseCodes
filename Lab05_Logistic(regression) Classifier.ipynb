{
 "cells": [
  {
   "cell_type": "code",
   "execution_count": 1,
   "metadata": {},
   "outputs": [],
   "source": [
    "import tensorflow as tf"
   ]
  },
  {
   "cell_type": "code",
   "execution_count": 2,
   "metadata": {},
   "outputs": [],
   "source": [
    "#x_data = 공부한 시간,  [1,2]: 공부1시간, video 2개봄 \n",
    "x_data = [[1,2],[2,3],[3,1],[4,3],[5,3],[6,2]]\n",
    "#y_data : 0:faiil, 1:pass\n",
    "y_data = [[0],[0],[0],[1],[1],[1]]"
   ]
  },
  {
   "cell_type": "code",
   "execution_count": 3,
   "metadata": {},
   "outputs": [],
   "source": [
    "X = tf.placeholder(tf.float32, shape=[None,2])\n",
    "Y = tf.placeholder(tf.float32, shape=[None,1])"
   ]
  },
  {
   "cell_type": "code",
   "execution_count": 4,
   "metadata": {},
   "outputs": [],
   "source": [
    "W = tf.Variable(tf.random_normal([2, 1], name='weight'))\n",
    "b = tf.Variable(tf.random_normal([1], name='bias'))"
   ]
  },
  {
   "cell_type": "code",
   "execution_count": 5,
   "metadata": {},
   "outputs": [],
   "source": [
    "#sigmoid : 1 / 1 + tf.exp(tf.matmul(X,W)+b)\n",
    "h = tf.sigmoid(tf.matmul(X,W) + b)"
   ]
  },
  {
   "cell_type": "code",
   "execution_count": 6,
   "metadata": {},
   "outputs": [],
   "source": [
    "cost = - tf.reduce_mean(Y * tf.log(h) + (1-Y) * tf.log(1-h))"
   ]
  },
  {
   "cell_type": "code",
   "execution_count": 7,
   "metadata": {},
   "outputs": [],
   "source": [
    "# train\n",
    "# w : w - a * d(cost(W))\n",
    "train = tf.train.GradientDescentOptimizer(learning_rate=0.01).minimize(cost)"
   ]
  },
  {
   "cell_type": "code",
   "execution_count": 8,
   "metadata": {},
   "outputs": [],
   "source": [
    "# 모델의 output 에 대한 classification 기준\n",
    "predicted = tf.cast(h > 0.5, dtype=tf.float32)"
   ]
  },
  {
   "cell_type": "code",
   "execution_count": 9,
   "metadata": {},
   "outputs": [],
   "source": [
    "# 10개 중에 3개 맞았앋 --> 30%\n",
    "acc = tf.reduce_mean(tf.cast(tf.equal(predicted, Y), dtype=tf.float32))"
   ]
  },
  {
   "cell_type": "markdown",
   "metadata": {},
   "source": [
    "### Launch graph "
   ]
  },
  {
   "cell_type": "code",
   "execution_count": 10,
   "metadata": {},
   "outputs": [
    {
     "name": "stdout",
     "output_type": "stream",
     "text": [
      "step:0, cost:1.0520130395889282\n",
      "step:200, cost:0.36107704043388367\n",
      "step:400, cost:0.33610501885414124\n",
      "step:600, cost:0.3197001516819\n",
      "step:800, cost:0.30732908844947815\n",
      "step:1000, cost:0.29709136486053467\n",
      "step:1200, cost:0.28811195492744446\n",
      "step:1400, cost:0.2799566090106964\n",
      "step:1600, cost:0.2723950743675232\n",
      "step:1800, cost:0.2652975618839264\n",
      "step:2000, cost:0.25858598947525024\n",
      "step:2200, cost:0.25221017003059387\n",
      "step:2400, cost:0.24613530933856964\n",
      "step:2600, cost:0.24033552408218384\n",
      "step:2800, cost:0.2347903698682785\n",
      "step:3000, cost:0.2294827699661255\n",
      "step:3200, cost:0.22439782321453094\n",
      "step:3400, cost:0.21952249109745026\n",
      "step:3600, cost:0.2148447483778\n",
      "step:3800, cost:0.21035362780094147\n",
      "step:4000, cost:0.20603890717029572\n",
      "step:4200, cost:0.20189113914966583\n",
      "step:4400, cost:0.19790144264698029\n",
      "step:4600, cost:0.194061741232872\n",
      "step:4800, cost:0.1903640627861023\n",
      "step:5000, cost:0.1868012696504593\n",
      "step:5200, cost:0.1833665370941162\n",
      "step:5400, cost:0.18005341291427612\n",
      "step:5600, cost:0.17685586214065552\n",
      "step:5800, cost:0.17376840114593506\n",
      "step:6000, cost:0.1707855463027954\n",
      "step:6200, cost:0.16790242493152618\n",
      "step:6400, cost:0.16511432826519012\n",
      "step:6600, cost:0.1624167412519455\n",
      "step:6800, cost:0.15980558097362518\n",
      "step:7000, cost:0.15727679431438446\n",
      "step:7200, cost:0.1548267900943756\n",
      "step:7400, cost:0.1524520069360733\n",
      "step:7600, cost:0.15014910697937012\n",
      "step:7800, cost:0.14791499078273773\n",
      "step:8000, cost:0.14574670791625977\n",
      "step:8200, cost:0.14364151656627655\n",
      "step:8400, cost:0.14159667491912842\n",
      "step:8600, cost:0.13960973918437958\n",
      "step:8800, cost:0.13767831027507782\n",
      "step:9000, cost:0.13580022752285004\n",
      "step:9200, cost:0.13397322595119476\n",
      "step:9400, cost:0.1321953684091568\n",
      "step:9600, cost:0.1304645985364914\n",
      "step:9800, cost:0.12877921760082245\n",
      "step:10000, cost:0.1271374523639679\n",
      "Hypothesis: [[0.02192903]\n",
      " [0.1448503 ]\n",
      " [0.25942242]\n",
      " [0.8029899 ]\n",
      " [0.9523667 ]\n",
      " [0.98453945]], \n",
      " Correct: [[0.]\n",
      " [0.]\n",
      " [0.]\n",
      " [1.]\n",
      " [1.]\n",
      " [1.]], \n",
      " Accuracy: 1.0\n"
     ]
    }
   ],
   "source": [
    "with tf.Session() as sess:\n",
    "    sess.run(tf.global_variables_initializer())\n",
    "    # 모델 학습\n",
    "    for step in range(10001):\n",
    "        cost_val, _ = sess.run([cost, train], feed_dict={X:x_data, Y:y_data})\n",
    "        if step % 200 == 0:\n",
    "            print('step:{0}, cost:{1}'.format(step, cost_val))\n",
    "    \n",
    "    # acc report \n",
    "    h, c, a = sess.run([h, predicted, acc], feed_dict={X:x_data, Y:y_data})\n",
    "    print(\"Hypothesis: {0}, \\n Correct: {1}, \\n Accuracy: {2}\".format(h, c, a))"
   ]
  },
  {
   "cell_type": "code",
   "execution_count": null,
   "metadata": {},
   "outputs": [],
   "source": []
  }
 ],
 "metadata": {
  "kernelspec": {
   "display_name": "Python [default]",
   "language": "python",
   "name": "python3"
  },
  "language_info": {
   "codemirror_mode": {
    "name": "ipython",
    "version": 3
   },
   "file_extension": ".py",
   "mimetype": "text/x-python",
   "name": "python",
   "nbconvert_exporter": "python",
   "pygments_lexer": "ipython3",
   "version": "3.5.5"
  }
 },
 "nbformat": 4,
 "nbformat_minor": 2
}
